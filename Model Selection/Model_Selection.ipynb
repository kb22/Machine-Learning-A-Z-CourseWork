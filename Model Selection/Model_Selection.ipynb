{
  "nbformat": 4,
  "nbformat_minor": 0,
  "metadata": {
    "colab": {
      "name": "Model Selection.ipynb",
      "version": "0.3.2",
      "provenance": [],
      "collapsed_sections": [],
      "toc_visible": true
    },
    "kernelspec": {
      "display_name": "Python 3",
      "language": "python",
      "name": "python3"
    }
  },
  "cells": [
    {
      "metadata": {
        "id": "yO0AMQvyD1_J",
        "colab_type": "text"
      },
      "cell_type": "markdown",
      "source": [
        "# Model Selection\n",
        "\n",
        "In this notebook, I'll work with **K-Fold Cross Validation**, **Grid Search** and **XGBoost**."
      ]
    },
    {
      "metadata": {
        "heading_collapsed": true,
        "id": "j3InqyakD1_Z",
        "colab_type": "text"
      },
      "cell_type": "markdown",
      "source": [
        "## K-Fold Cross Validation"
      ]
    },
    {
      "metadata": {
        "hidden": true,
        "id": "RQZwuKu9D1_M",
        "colab_type": "code",
        "colab": {}
      },
      "cell_type": "code",
      "source": [
        "import pandas as pd\n",
        "import numpy as np\n",
        "import matplotlib.pyplot as plt\n",
        "from matplotlib.colors import ListedColormap\n",
        "%matplotlib inline\n",
        "\n",
        "from sklearn.svm import SVC\n",
        "from sklearn.model_selection import train_test_split\n",
        "from sklearn.preprocessing import StandardScaler\n",
        "from sklearn.metrics import confusion_matrix\n",
        "\n",
        "import warnings\n",
        "warnings.filterwarnings('ignore')"
      ],
      "execution_count": 0,
      "outputs": []
    },
    {
      "metadata": {
        "hidden": true,
        "id": "sFFcVW-fD1_Q",
        "colab_type": "code",
        "colab": {}
      },
      "cell_type": "code",
      "source": [
        "dataset = pd.read_csv('Social_Network_Ads.csv')\n",
        "X = dataset.iloc[:, 2:-1]\n",
        "y = dataset.iloc[:, -1]\n",
        "\n",
        "X_train, X_test, y_train, y_test = train_test_split(X, y, test_size = 0.25, random_state = 0)"
      ],
      "execution_count": 0,
      "outputs": []
    },
    {
      "metadata": {
        "hidden": true,
        "id": "nJX6GmVwD1_S",
        "colab_type": "code",
        "colab": {}
      },
      "cell_type": "code",
      "source": [
        "standardScaler = StandardScaler()\n",
        "X_train = standardScaler.fit_transform(X_train)\n",
        "X_test = standardScaler.transform(X_test)"
      ],
      "execution_count": 0,
      "outputs": []
    },
    {
      "metadata": {
        "id": "jvawgNbFHVAt",
        "colab_type": "text"
      },
      "cell_type": "markdown",
      "source": [
        "We will use the **Support Vector Classifier** for understanding K-Fold and Grid Search."
      ]
    },
    {
      "metadata": {
        "hidden": true,
        "id": "KBBqUkN3D1_V",
        "colab_type": "code",
        "colab": {}
      },
      "cell_type": "code",
      "source": [
        "classifier = SVC(kernel = 'rbf', random_state = 0)"
      ],
      "execution_count": 0,
      "outputs": []
    },
    {
      "metadata": {
        "id": "0Mc8fopoHeyW",
        "colab_type": "text"
      },
      "cell_type": "markdown",
      "source": [
        "I'll now apply K-Fold cross validation to get an average accuracy. I set the value of K as 10."
      ]
    },
    {
      "metadata": {
        "hidden": true,
        "id": "Pb6JIm0LD1_a",
        "colab_type": "code",
        "colab": {
          "base_uri": "https://localhost:8080/",
          "height": 51
        },
        "outputId": "ae2742aa-e914-4a2f-abea-94b91f08ecdb"
      },
      "cell_type": "code",
      "source": [
        "from sklearn.model_selection import cross_val_score\n",
        "\n",
        "accuracies = cross_val_score(classifier, X_train, y_train, cv = 10, n_jobs = -1)\n",
        "print(\"Mean Accuracy: {:.2f}%\".format(accuracies.mean()*100))\n",
        "print(\"Standard Deviation: {:.2f}%\".format(accuracies.std()*100))"
      ],
      "execution_count": 5,
      "outputs": [
        {
          "output_type": "stream",
          "text": [
            "Mean Accuracy: 90.05%\n",
            "Standard Deviation: 6.39%\n"
          ],
          "name": "stdout"
        }
      ]
    },
    {
      "metadata": {
        "hidden": true,
        "id": "9yiaHqNBD1_d",
        "colab_type": "text"
      },
      "cell_type": "markdown",
      "source": [
        "Standard Deviation being 6% means that the model can deviate upto 6% from the mean performance."
      ]
    },
    {
      "metadata": {
        "id": "FKkHU7KsD1_d",
        "colab_type": "text"
      },
      "cell_type": "markdown",
      "source": [
        "## Grid Search"
      ]
    },
    {
      "metadata": {
        "id": "bRs6NgspHuN3",
        "colab_type": "text"
      },
      "cell_type": "markdown",
      "source": [
        "I'll try two different set of parameters to identify the best parameter set."
      ]
    },
    {
      "metadata": {
        "id": "ri08x1tpD1_e",
        "colab_type": "code",
        "colab": {
          "base_uri": "https://localhost:8080/",
          "height": 85
        },
        "outputId": "687ffcf0-b57d-430a-f8fc-62198d90b0f9"
      },
      "cell_type": "code",
      "source": [
        "from sklearn.model_selection import GridSearchCV\n",
        "\n",
        "parameters = [\n",
        "    {\n",
        "        'C': [1, 10, 100, 1000],\n",
        "        'kernel': ['linear']\n",
        "    },\n",
        "    {\n",
        "        'C': [1, 10, 100, 1000],\n",
        "        'kernel': ['rbf'],\n",
        "        'gamma': [0.1, 0.2, 0.3, 0.4, 0.5, 0.6, 0.7, 0.8, 0.9]\n",
        "    }\n",
        "]\n",
        "\n",
        "grid_search = GridSearchCV(classifier, \n",
        "                           param_grid = parameters, \n",
        "                           scoring = 'accuracy',\n",
        "                           cv= 10,\n",
        "                           n_jobs = -1,\n",
        "                           verbose = 5)\n",
        "grid_search.fit(X_train, y_train)\n",
        "print(\"Best Accuracy: {}%\".format(grid_search.best_score_*100))"
      ],
      "execution_count": 6,
      "outputs": [
        {
          "output_type": "stream",
          "text": [
            "Fitting 10 folds for each of 40 candidates, totalling 400 fits\n"
          ],
          "name": "stdout"
        },
        {
          "output_type": "stream",
          "text": [
            "[Parallel(n_jobs=-1)]: Using backend LokyBackend with 2 concurrent workers.\n"
          ],
          "name": "stderr"
        },
        {
          "output_type": "stream",
          "text": [
            "Best Accuracy: 90.33333333333333%\n"
          ],
          "name": "stdout"
        },
        {
          "output_type": "stream",
          "text": [
            "[Parallel(n_jobs=-1)]: Done 400 out of 400 | elapsed:    3.2s finished\n"
          ],
          "name": "stderr"
        }
      ]
    },
    {
      "metadata": {
        "id": "suW4766DD1_g",
        "colab_type": "code",
        "colab": {
          "base_uri": "https://localhost:8080/",
          "height": 34
        },
        "outputId": "a0ed1cdd-d4c8-4292-c716-39389164888b"
      },
      "cell_type": "code",
      "source": [
        "best_parameters = grid_search.best_params_\n",
        "print(\"Best parameters: {}\".format(best_parameters))"
      ],
      "execution_count": 7,
      "outputs": [
        {
          "output_type": "stream",
          "text": [
            "Best parameters: {'C': 1, 'gamma': 0.7, 'kernel': 'rbf'}\n"
          ],
          "name": "stdout"
        }
      ]
    },
    {
      "metadata": {
        "id": "M9rgK_UlD1_j",
        "colab_type": "text"
      },
      "cell_type": "markdown",
      "source": [
        "## XGBoost"
      ]
    },
    {
      "metadata": {
        "id": "QshOavwdH1FS",
        "colab_type": "text"
      },
      "cell_type": "markdown",
      "source": [
        "For XGBoost, I'm using the **Churn Modelling** dataset."
      ]
    },
    {
      "metadata": {
        "id": "Y_7lWB5xD1_k",
        "colab_type": "code",
        "colab": {}
      },
      "cell_type": "code",
      "source": [
        "dataset = pd.read_csv('Churn_Modelling.csv')\n",
        "X = dataset.iloc[:, 3:-1]\n",
        "y = dataset.iloc[:, -1]"
      ],
      "execution_count": 0,
      "outputs": []
    },
    {
      "metadata": {
        "id": "ZfIEsU2LD1_m",
        "colab_type": "code",
        "colab": {}
      },
      "cell_type": "code",
      "source": [
        "from sklearn.preprocessing import LabelEncoder, OneHotEncoder\n",
        "\n",
        "labelEncoder_1 = LabelEncoder()\n",
        "X.iloc[:, 1] = labelEncoder_1.fit_transform(X.iloc[:, 1])\n",
        "labelEncoder_2 = LabelEncoder()\n",
        "X.iloc[:, 2] = labelEncoder_2.fit_transform(X.iloc[:, 2])\n",
        "oneHotEncoder = OneHotEncoder(categorical_features = [1])\n",
        "X = oneHotEncoder.fit_transform(X).toarray()\n",
        "\n",
        "# Avoid dummy variable trap\n",
        "X = X[:, 1:]"
      ],
      "execution_count": 0,
      "outputs": []
    },
    {
      "metadata": {
        "id": "ttVCrv-wERbS",
        "colab_type": "code",
        "colab": {}
      },
      "cell_type": "code",
      "source": [
        "X_train, X_test, y_train, y_test = train_test_split(X, y, test_size = 0.2, random_state = 0)"
      ],
      "execution_count": 0,
      "outputs": []
    },
    {
      "metadata": {
        "id": "BHbpeHs-ER2T",
        "colab_type": "code",
        "colab": {
          "base_uri": "https://localhost:8080/",
          "height": 119
        },
        "outputId": "745c2244-8acf-41bd-a319-eb3e4788400f"
      },
      "cell_type": "code",
      "source": [
        "from xgboost import XGBClassifier\n",
        "\n",
        "classifier = XGBClassifier()\n",
        "classifier.fit(X_train, y_train)"
      ],
      "execution_count": 11,
      "outputs": [
        {
          "output_type": "execute_result",
          "data": {
            "text/plain": [
              "XGBClassifier(base_score=0.5, booster='gbtree', colsample_bylevel=1,\n",
              "       colsample_bytree=1, gamma=0, learning_rate=0.1, max_delta_step=0,\n",
              "       max_depth=3, min_child_weight=1, missing=None, n_estimators=100,\n",
              "       n_jobs=1, nthread=None, objective='binary:logistic', random_state=0,\n",
              "       reg_alpha=0, reg_lambda=1, scale_pos_weight=1, seed=None,\n",
              "       silent=True, subsample=1)"
            ]
          },
          "metadata": {
            "tags": []
          },
          "execution_count": 11
        }
      ]
    },
    {
      "metadata": {
        "id": "RzHLkTXtEiUt",
        "colab_type": "code",
        "colab": {
          "base_uri": "https://localhost:8080/",
          "height": 51
        },
        "outputId": "3bb052df-91dd-4c5c-8921-9c15bb3d7d90"
      },
      "cell_type": "code",
      "source": [
        "accuracies = cross_val_score(classifier, X_train, y_train, cv = 10, n_jobs = -1)\n",
        "print(\"Mean Accuracy: {:.2f}%\".format(accuracies.mean()*100))\n",
        "print(\"Standard Deviation: {:.2f}%\".format(accuracies.std()*100))"
      ],
      "execution_count": 12,
      "outputs": [
        {
          "output_type": "stream",
          "text": [
            "Mean Accuracy: 86.30%\n",
            "Standard Deviation: 1.07%\n"
          ],
          "name": "stdout"
        }
      ]
    },
    {
      "metadata": {
        "id": "_QD_NUaYFDY3",
        "colab_type": "text"
      },
      "cell_type": "markdown",
      "source": [
        "We achieved an **accuracy of 86.3%** on the dataset with only very slight variation of +1.07% or -1.07%."
      ]
    }
  ]
}