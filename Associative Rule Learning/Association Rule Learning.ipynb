{
 "cells": [
  {
   "cell_type": "markdown",
   "metadata": {},
   "source": [
    "# Association Rule Learning\n",
    "\n",
    "Association Rule Learning helps us to identify the correlation between a set of items. For example, in a grocery, we can identify two items that people usually buy together. Based on a real stroy, it was identified that baby diapers and beer bottles are bought quite frequently together. Thus, this association information can be leveraged and the products can be placed widely apart so that the person has to walk through a lot of other products and thus, can also buy something that was not planned.\n",
    "\n",
    "There are two methods to identify this associative relationship.\n",
    "1. Apriori\n",
    "2. Eclat"
   ]
  },
  {
   "cell_type": "markdown",
   "metadata": {
    "heading_collapsed": true
   },
   "source": [
    "### Import libraries and data"
   ]
  },
  {
   "cell_type": "code",
   "execution_count": 1,
   "metadata": {
    "hidden": true
   },
   "outputs": [],
   "source": [
    "import pandas as pd\n",
    "import numpy as np\n",
    "from apyori import apriori"
   ]
  },
  {
   "cell_type": "code",
   "execution_count": 2,
   "metadata": {
    "hidden": true
   },
   "outputs": [
    {
     "data": {
      "text/html": [
       "<div>\n",
       "<style scoped>\n",
       "    .dataframe tbody tr th:only-of-type {\n",
       "        vertical-align: middle;\n",
       "    }\n",
       "\n",
       "    .dataframe tbody tr th {\n",
       "        vertical-align: top;\n",
       "    }\n",
       "\n",
       "    .dataframe thead th {\n",
       "        text-align: right;\n",
       "    }\n",
       "</style>\n",
       "<table border=\"1\" class=\"dataframe\">\n",
       "  <thead>\n",
       "    <tr style=\"text-align: right;\">\n",
       "      <th></th>\n",
       "      <th>shrimp</th>\n",
       "      <th>almonds</th>\n",
       "      <th>avocado</th>\n",
       "      <th>vegetables mix</th>\n",
       "      <th>green grapes</th>\n",
       "      <th>whole weat flour</th>\n",
       "      <th>yams</th>\n",
       "      <th>cottage cheese</th>\n",
       "      <th>energy drink</th>\n",
       "      <th>tomato juice</th>\n",
       "      <th>low fat yogurt</th>\n",
       "      <th>green tea</th>\n",
       "      <th>honey</th>\n",
       "      <th>salad</th>\n",
       "      <th>mineral water</th>\n",
       "      <th>salmon</th>\n",
       "      <th>antioxydant juice</th>\n",
       "      <th>frozen smoothie</th>\n",
       "      <th>spinach</th>\n",
       "      <th>olive oil</th>\n",
       "    </tr>\n",
       "  </thead>\n",
       "  <tbody>\n",
       "    <tr>\n",
       "      <th>0</th>\n",
       "      <td>burgers</td>\n",
       "      <td>meatballs</td>\n",
       "      <td>eggs</td>\n",
       "      <td>NaN</td>\n",
       "      <td>NaN</td>\n",
       "      <td>NaN</td>\n",
       "      <td>NaN</td>\n",
       "      <td>NaN</td>\n",
       "      <td>NaN</td>\n",
       "      <td>NaN</td>\n",
       "      <td>NaN</td>\n",
       "      <td>NaN</td>\n",
       "      <td>NaN</td>\n",
       "      <td>NaN</td>\n",
       "      <td>NaN</td>\n",
       "      <td>NaN</td>\n",
       "      <td>NaN</td>\n",
       "      <td>NaN</td>\n",
       "      <td>NaN</td>\n",
       "      <td>NaN</td>\n",
       "    </tr>\n",
       "    <tr>\n",
       "      <th>1</th>\n",
       "      <td>chutney</td>\n",
       "      <td>NaN</td>\n",
       "      <td>NaN</td>\n",
       "      <td>NaN</td>\n",
       "      <td>NaN</td>\n",
       "      <td>NaN</td>\n",
       "      <td>NaN</td>\n",
       "      <td>NaN</td>\n",
       "      <td>NaN</td>\n",
       "      <td>NaN</td>\n",
       "      <td>NaN</td>\n",
       "      <td>NaN</td>\n",
       "      <td>NaN</td>\n",
       "      <td>NaN</td>\n",
       "      <td>NaN</td>\n",
       "      <td>NaN</td>\n",
       "      <td>NaN</td>\n",
       "      <td>NaN</td>\n",
       "      <td>NaN</td>\n",
       "      <td>NaN</td>\n",
       "    </tr>\n",
       "    <tr>\n",
       "      <th>2</th>\n",
       "      <td>turkey</td>\n",
       "      <td>avocado</td>\n",
       "      <td>NaN</td>\n",
       "      <td>NaN</td>\n",
       "      <td>NaN</td>\n",
       "      <td>NaN</td>\n",
       "      <td>NaN</td>\n",
       "      <td>NaN</td>\n",
       "      <td>NaN</td>\n",
       "      <td>NaN</td>\n",
       "      <td>NaN</td>\n",
       "      <td>NaN</td>\n",
       "      <td>NaN</td>\n",
       "      <td>NaN</td>\n",
       "      <td>NaN</td>\n",
       "      <td>NaN</td>\n",
       "      <td>NaN</td>\n",
       "      <td>NaN</td>\n",
       "      <td>NaN</td>\n",
       "      <td>NaN</td>\n",
       "    </tr>\n",
       "    <tr>\n",
       "      <th>3</th>\n",
       "      <td>mineral water</td>\n",
       "      <td>milk</td>\n",
       "      <td>energy bar</td>\n",
       "      <td>whole wheat rice</td>\n",
       "      <td>green tea</td>\n",
       "      <td>NaN</td>\n",
       "      <td>NaN</td>\n",
       "      <td>NaN</td>\n",
       "      <td>NaN</td>\n",
       "      <td>NaN</td>\n",
       "      <td>NaN</td>\n",
       "      <td>NaN</td>\n",
       "      <td>NaN</td>\n",
       "      <td>NaN</td>\n",
       "      <td>NaN</td>\n",
       "      <td>NaN</td>\n",
       "      <td>NaN</td>\n",
       "      <td>NaN</td>\n",
       "      <td>NaN</td>\n",
       "      <td>NaN</td>\n",
       "    </tr>\n",
       "    <tr>\n",
       "      <th>4</th>\n",
       "      <td>low fat yogurt</td>\n",
       "      <td>NaN</td>\n",
       "      <td>NaN</td>\n",
       "      <td>NaN</td>\n",
       "      <td>NaN</td>\n",
       "      <td>NaN</td>\n",
       "      <td>NaN</td>\n",
       "      <td>NaN</td>\n",
       "      <td>NaN</td>\n",
       "      <td>NaN</td>\n",
       "      <td>NaN</td>\n",
       "      <td>NaN</td>\n",
       "      <td>NaN</td>\n",
       "      <td>NaN</td>\n",
       "      <td>NaN</td>\n",
       "      <td>NaN</td>\n",
       "      <td>NaN</td>\n",
       "      <td>NaN</td>\n",
       "      <td>NaN</td>\n",
       "      <td>NaN</td>\n",
       "    </tr>\n",
       "  </tbody>\n",
       "</table>\n",
       "</div>"
      ],
      "text/plain": [
       "           shrimp    almonds     avocado    vegetables mix green grapes  \\\n",
       "0         burgers  meatballs        eggs               NaN          NaN   \n",
       "1         chutney        NaN         NaN               NaN          NaN   \n",
       "2          turkey    avocado         NaN               NaN          NaN   \n",
       "3   mineral water       milk  energy bar  whole wheat rice    green tea   \n",
       "4  low fat yogurt        NaN         NaN               NaN          NaN   \n",
       "\n",
       "  whole weat flour yams cottage cheese energy drink tomato juice  \\\n",
       "0              NaN  NaN            NaN          NaN          NaN   \n",
       "1              NaN  NaN            NaN          NaN          NaN   \n",
       "2              NaN  NaN            NaN          NaN          NaN   \n",
       "3              NaN  NaN            NaN          NaN          NaN   \n",
       "4              NaN  NaN            NaN          NaN          NaN   \n",
       "\n",
       "  low fat yogurt green tea honey salad mineral water salmon antioxydant juice  \\\n",
       "0            NaN       NaN   NaN   NaN           NaN    NaN               NaN   \n",
       "1            NaN       NaN   NaN   NaN           NaN    NaN               NaN   \n",
       "2            NaN       NaN   NaN   NaN           NaN    NaN               NaN   \n",
       "3            NaN       NaN   NaN   NaN           NaN    NaN               NaN   \n",
       "4            NaN       NaN   NaN   NaN           NaN    NaN               NaN   \n",
       "\n",
       "  frozen smoothie spinach  olive oil  \n",
       "0             NaN     NaN        NaN  \n",
       "1             NaN     NaN        NaN  \n",
       "2             NaN     NaN        NaN  \n",
       "3             NaN     NaN        NaN  \n",
       "4             NaN     NaN        NaN  "
      ]
     },
     "execution_count": 2,
     "metadata": {},
     "output_type": "execute_result"
    }
   ],
   "source": [
    "dataset = pd.read_csv('Market_Basket_Optimisation.csv')\n",
    "dataset.head(5)"
   ]
  },
  {
   "cell_type": "markdown",
   "metadata": {
    "heading_collapsed": true
   },
   "source": [
    "### Apriori"
   ]
  },
  {
   "cell_type": "markdown",
   "metadata": {
    "hidden": true
   },
   "source": [
    "**Key terms**\n",
    "1. **Support (X)** = Number of documents with X / Total number of documents\n",
    "2. **Confidence (X -> Y)** = Number of documents with Y and X / Number of documents with X\n",
    "3. **Lift (X -> Y)** = Confidence (X -> Y) / Support (X)\n",
    "\n",
    "The algorithm is based on `prior` knowledge. \n",
    "\n",
    "**Algorithm**\n",
    "1. Decide minimum values for confidence and support\n",
    "2. Consider all transactions with support more than minimum support\n",
    "3. Take all rules that have confidence more than minimum confidence\n",
    "4. Sort the rules by decreasing life"
   ]
  },
  {
   "cell_type": "markdown",
   "metadata": {
    "hidden": true
   },
   "source": [
    "I'll first define certain constants to be used for the algorithm."
   ]
  },
  {
   "cell_type": "code",
   "execution_count": 3,
   "metadata": {
    "hidden": true
   },
   "outputs": [],
   "source": [
    "MIN_SUPPORT = 0.003\n",
    "MIN_CONFIDENCE = 0.2\n",
    "MIN_LIFT = 3\n",
    "TOTAL_LISTS = dataset.shape[0]"
   ]
  },
  {
   "cell_type": "markdown",
   "metadata": {
    "hidden": true
   },
   "source": [
    "Next, I'll extract all the unqiue items that are in the complete dataset."
   ]
  },
  {
   "cell_type": "code",
   "execution_count": 4,
   "metadata": {
    "hidden": true
   },
   "outputs": [],
   "source": [
    "items = set()\n",
    "item_docs = dict()\n",
    "for i in range(dataset.shape[0]):\n",
    "    for j in range(dataset.shape[1]):\n",
    "        item = dataset.iloc[i,j]\n",
    "        if type(item) == str:\n",
    "            items.add(item)\n",
    "            if item in item_docs:\n",
    "                item_docs[item].append(i)\n",
    "            else:\n",
    "                item_docs[item] = [i]"
   ]
  },
  {
   "cell_type": "markdown",
   "metadata": {
    "hidden": true
   },
   "source": [
    "Given that I have the list of all items in all lists, the next step is to calculate the `support` for each item. For this, I create a dictionary where the key would be the item and the value for that key would be the support for that item."
   ]
  },
  {
   "cell_type": "code",
   "execution_count": 5,
   "metadata": {
    "hidden": true
   },
   "outputs": [],
   "source": [
    "support = {}\n",
    "for item in items:\n",
    "    support[item] = len(item_docs[item]) / TOTAL_LISTS"
   ]
  },
  {
   "cell_type": "markdown",
   "metadata": {
    "hidden": true
   },
   "source": [
    "Next, I iterate over all the possible pair of items and extract the confidence and lift. After checking that the minimum values are met for support, confidence and list, I append the pair to the result list.\n",
    "Finally, I sort the result list based on the decreasing order of the lift."
   ]
  },
  {
   "cell_type": "code",
   "execution_count": 6,
   "metadata": {
    "hidden": true
   },
   "outputs": [],
   "source": [
    "result = []\n",
    "index = 0\n",
    "for item1 in items:\n",
    "    for item2 in items:\n",
    "        if item1 != item2:\n",
    "            common_count = len(np.intersect1d(item_docs[item1], item_docs[item2]))\n",
    "            confidence = common_count / len(item_docs[item1])\n",
    "            lift = confidence / support[item2]\n",
    "            if (confidence >= MIN_CONFIDENCE and support[item1] >= MIN_SUPPORT and lift >= MIN_LIFT):\n",
    "                result.append({})\n",
    "                result[index]['firstItem'] = item1\n",
    "                result[index]['secondItem'] = item2\n",
    "                result[index]['lift'] = lift\n",
    "                index += 1\n",
    "associations = sorted(result, key = lambda x: x['lift'], reverse = True)"
   ]
  },
  {
   "cell_type": "markdown",
   "metadata": {
    "hidden": true
   },
   "source": [
    "I can now just print the top 10 associations that we derived using the **Apriori algorithm**."
   ]
  },
  {
   "cell_type": "code",
   "execution_count": 7,
   "metadata": {
    "hidden": true
   },
   "outputs": [
    {
     "name": "stdout",
     "output_type": "stream",
     "text": [
      "If someone buys \u001b[1mhand protein bar\u001b[0m, they are also likely to buy \u001b[1mprotein bar\u001b[0m with a lift of \u001b[1m12.45157719977864\u001b[0m\n",
      "If someone buys \u001b[1mchocolate bread\u001b[0m, they are also likely to buy \u001b[1mred wine\u001b[0m with a lift of \u001b[1m8.886255924170616\u001b[0m\n",
      "If someone buys \u001b[1mpet food\u001b[0m, they are also likely to buy \u001b[1mred wine\u001b[0m with a lift of \u001b[1m8.70490376245285\u001b[0m\n",
      "If someone buys \u001b[1msparkling water\u001b[0m, they are also likely to buy \u001b[1mhot dogs\u001b[0m with a lift of \u001b[1m7.880220646178093\u001b[0m\n",
      "If someone buys \u001b[1mdessert wine\u001b[0m, they are also likely to buy \u001b[1msalmon\u001b[0m with a lift of \u001b[1m5.717552887364208\u001b[0m\n",
      "If someone buys \u001b[1mfromage blanc\u001b[0m, they are also likely to buy \u001b[1mhoney\u001b[0m with a lift of \u001b[1m5.178127589063794\u001b[0m\n",
      "If someone buys \u001b[1mlight cream\u001b[0m, they are also likely to buy \u001b[1mchicken\u001b[0m with a lift of \u001b[1m4.843304843304844\u001b[0m\n",
      "If someone buys \u001b[1mpasta\u001b[0m, they are also likely to buy \u001b[1mescalope\u001b[0m with a lift of \u001b[1m4.700185158809286\u001b[0m\n",
      "If someone buys \u001b[1mburger sauce\u001b[0m, they are also likely to buy \u001b[1mchicken\u001b[0m with a lift of \u001b[1m4.545454545454545\u001b[0m\n",
      "If someone buys \u001b[1mpasta\u001b[0m, they are also likely to buy \u001b[1mshrimp\u001b[0m with a lift of \u001b[1m4.51449390147315\u001b[0m\n"
     ]
    }
   ],
   "source": [
    "for i in range(10):\n",
    "    print('If someone buys \\033[1m{}\\033[0m, they are also likely to buy \\033[1m{}\\033[0m with a lift of \\033[1m{}\\033[0m'\n",
    "          .format(associations[i]['firstItem'], associations[i]['secondItem'], associations[i]['lift']))"
   ]
  },
  {
   "cell_type": "markdown",
   "metadata": {
    "heading_collapsed": true
   },
   "source": [
    "### Eclat"
   ]
  },
  {
   "cell_type": "markdown",
   "metadata": {
    "hidden": true
   },
   "source": [
    "**Key terms**\n",
    "1. **Support (X and Y)** = Number of documents with X and Y both / Total number of documents\n",
    "\n",
    "**Algorithm**\n",
    "1. Decide minimum values for support\n",
    "2. Consider all transactions with support more than minimum support\n",
    "4. Sort the rules by decreasing support"
   ]
  },
  {
   "cell_type": "markdown",
   "metadata": {
    "hidden": true
   },
   "source": [
    "I calculate the support for each pair of values and then sort them in the decreasing order based on `support`."
   ]
  },
  {
   "cell_type": "code",
   "execution_count": 8,
   "metadata": {
    "hidden": true
   },
   "outputs": [],
   "source": [
    "support = []\n",
    "index = 0\n",
    "for item1 in items:\n",
    "    for item2 in items:\n",
    "        if item1 != item2:\n",
    "            common_count = len(np.intersect1d(item_docs[item1], item_docs[item2]))\n",
    "            curr_support = common_count / TOTAL_LISTS\n",
    "            if (curr_support >= MIN_SUPPORT):\n",
    "                support.append({})\n",
    "                support[index]['firstItem'] = item1\n",
    "                support[index]['secondItem'] = item2\n",
    "                support[index]['support'] = curr_support\n",
    "                index += 1\n",
    "associations = sorted(support, key = lambda x: x['support'], reverse = True)"
   ]
  },
  {
   "cell_type": "markdown",
   "metadata": {
    "hidden": true
   },
   "source": [
    "I can now just print the top 10 associations that we derived using the **Eclat algorithm**."
   ]
  },
  {
   "cell_type": "code",
   "execution_count": 9,
   "metadata": {
    "hidden": true
   },
   "outputs": [
    {
     "name": "stdout",
     "output_type": "stream",
     "text": [
      "If someone buys \u001b[1mspaghetti\u001b[0m, they are also likely to buy \u001b[1mmineral water\u001b[0m with a support of \u001b[1m0.05973333333333333\u001b[0m\n",
      "If someone buys \u001b[1mmineral water\u001b[0m, they are also likely to buy \u001b[1mspaghetti\u001b[0m with a support of \u001b[1m0.05973333333333333\u001b[0m\n",
      "If someone buys \u001b[1mchocolate\u001b[0m, they are also likely to buy \u001b[1mmineral water\u001b[0m with a support of \u001b[1m0.05266666666666667\u001b[0m\n",
      "If someone buys \u001b[1mmineral water\u001b[0m, they are also likely to buy \u001b[1mchocolate\u001b[0m with a support of \u001b[1m0.05266666666666667\u001b[0m\n",
      "If someone buys \u001b[1meggs\u001b[0m, they are also likely to buy \u001b[1mmineral water\u001b[0m with a support of \u001b[1m0.05093333333333333\u001b[0m\n",
      "If someone buys \u001b[1mmineral water\u001b[0m, they are also likely to buy \u001b[1meggs\u001b[0m with a support of \u001b[1m0.05093333333333333\u001b[0m\n",
      "If someone buys \u001b[1mmilk\u001b[0m, they are also likely to buy \u001b[1mmineral water\u001b[0m with a support of \u001b[1m0.048\u001b[0m\n",
      "If someone buys \u001b[1mmineral water\u001b[0m, they are also likely to buy \u001b[1mmilk\u001b[0m with a support of \u001b[1m0.048\u001b[0m\n",
      "If someone buys \u001b[1mground beef\u001b[0m, they are also likely to buy \u001b[1mmineral water\u001b[0m with a support of \u001b[1m0.040933333333333335\u001b[0m\n",
      "If someone buys \u001b[1mmineral water\u001b[0m, they are also likely to buy \u001b[1mground beef\u001b[0m with a support of \u001b[1m0.040933333333333335\u001b[0m\n"
     ]
    }
   ],
   "source": [
    "for i in range(10):\n",
    "    print('If someone buys \\033[1m{}\\033[0m, they are also likely to buy \\033[1m{}\\033[0m with a support of \\033[1m{}\\033[0m'\n",
    "          .format(associations[i]['firstItem'], associations[i]['secondItem'], associations[i]['support']))"
   ]
  }
 ],
 "metadata": {
  "kernelspec": {
   "display_name": "Python 3",
   "language": "python",
   "name": "python3"
  },
  "language_info": {
   "codemirror_mode": {
    "name": "ipython",
    "version": 3
   },
   "file_extension": ".py",
   "mimetype": "text/x-python",
   "name": "python",
   "nbconvert_exporter": "python",
   "pygments_lexer": "ipython3",
   "version": "3.7.2"
  }
 },
 "nbformat": 4,
 "nbformat_minor": 2
}
