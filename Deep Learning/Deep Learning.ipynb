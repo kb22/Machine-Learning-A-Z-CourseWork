{
 "cells": [
  {
   "cell_type": "markdown",
   "metadata": {},
   "source": [
    "# Deep Learning\n",
    "\n",
    "In this notebook, I'll work with the churn dataset and use ANN and CNN to detect patterns."
   ]
  },
  {
   "cell_type": "markdown",
   "metadata": {},
   "source": [
    "## Artificial Neural Networks"
   ]
  },
  {
   "cell_type": "markdown",
   "metadata": {},
   "source": [
    "### Data Processing"
   ]
  },
  {
   "cell_type": "code",
   "execution_count": 1,
   "metadata": {},
   "outputs": [],
   "source": [
    "import numpy as np\n",
    "import pandas as pd\n",
    "import matplotlib.pyplot as plt\n",
    "%matplotlib inline"
   ]
  },
  {
   "cell_type": "code",
   "execution_count": 2,
   "metadata": {},
   "outputs": [],
   "source": [
    "dataset = pd.read_csv('Churn_Modelling.csv')\n",
    "X = dataset.iloc[:, 3:-1]\n",
    "y = dataset.iloc[:, -1]"
   ]
  },
  {
   "cell_type": "code",
   "execution_count": 3,
   "metadata": {},
   "outputs": [
    {
     "name": "stderr",
     "output_type": "stream",
     "text": [
      "/usr/local/lib/python3.7/site-packages/sklearn/preprocessing/_encoders.py:368: FutureWarning: The handling of integer data will change in version 0.22. Currently, the categories are determined based on the range [0, max(values)], while in the future they will be determined based on the unique values.\n",
      "If you want the future behaviour and silence this warning, you can specify \"categories='auto'\".\n",
      "In case you used a LabelEncoder before this OneHotEncoder to convert the categories to integers, then you can now use the OneHotEncoder directly.\n",
      "  warnings.warn(msg, FutureWarning)\n",
      "/usr/local/lib/python3.7/site-packages/sklearn/preprocessing/_encoders.py:390: DeprecationWarning: The 'categorical_features' keyword is deprecated in version 0.20 and will be removed in 0.22. You can use the ColumnTransformer instead.\n",
      "  \"use the ColumnTransformer instead.\", DeprecationWarning)\n"
     ]
    }
   ],
   "source": [
    "from sklearn.preprocessing import LabelEncoder, OneHotEncoder\n",
    "\n",
    "labelEncoder_1 = LabelEncoder()\n",
    "X.iloc[:, 1] = labelEncoder_1.fit_transform(X.iloc[:, 1])\n",
    "labelEncoder_2 = LabelEncoder()\n",
    "X.iloc[:, 2] = labelEncoder_2.fit_transform(X.iloc[:, 2])\n",
    "oneHotEncoder = OneHotEncoder(categorical_features = [1])\n",
    "X = oneHotEncoder.fit_transform(X).toarray()\n",
    "\n",
    "# Avoid dummy variable trap\n",
    "X = X[:, 1:]"
   ]
  },
  {
   "cell_type": "code",
   "execution_count": 4,
   "metadata": {},
   "outputs": [],
   "source": [
    "from sklearn.model_selection import train_test_split\n",
    "\n",
    "X_train, X_test, y_train, y_test = train_test_split(X, y, test_size = 0.2, random_state = 0)"
   ]
  },
  {
   "cell_type": "code",
   "execution_count": 5,
   "metadata": {},
   "outputs": [],
   "source": [
    "from sklearn.preprocessing import StandardScaler\n",
    "\n",
    "standardScaler = StandardScaler()\n",
    "X_train = standardScaler.fit_transform(X_train)\n",
    "X_test = standardScaler.transform(X_test)"
   ]
  },
  {
   "cell_type": "markdown",
   "metadata": {},
   "source": [
    "### Build the ANN"
   ]
  },
  {
   "cell_type": "code",
   "execution_count": 6,
   "metadata": {},
   "outputs": [
    {
     "name": "stderr",
     "output_type": "stream",
     "text": [
      "Using TensorFlow backend.\n"
     ]
    }
   ],
   "source": [
    "import os\n",
    "os.environ['KERAS_BACKEND'] = 'tensorflow'\n",
    "import keras\n",
    "from keras.models import Sequential\n",
    "from keras.layers import Dense"
   ]
  },
  {
   "cell_type": "code",
   "execution_count": 7,
   "metadata": {},
   "outputs": [
    {
     "name": "stdout",
     "output_type": "stream",
     "text": [
      "WARNING:tensorflow:From /usr/local/lib/python3.7/site-packages/tensorflow/python/framework/op_def_library.py:263: colocate_with (from tensorflow.python.framework.ops) is deprecated and will be removed in a future version.\n",
      "Instructions for updating:\n",
      "Colocations handled automatically by placer.\n"
     ]
    },
    {
     "name": "stderr",
     "output_type": "stream",
     "text": [
      "/usr/local/lib/python3.7/site-packages/ipykernel_launcher.py:6: UserWarning: Update your `Dense` call to the Keras 2 API: `Dense(activation=\"relu\", input_dim=11, units=6, kernel_initializer=\"uniform\")`\n",
      "  \n",
      "/usr/local/lib/python3.7/site-packages/ipykernel_launcher.py:9: UserWarning: Update your `Dense` call to the Keras 2 API: `Dense(activation=\"relu\", units=6, kernel_initializer=\"uniform\")`\n",
      "  if __name__ == '__main__':\n",
      "/usr/local/lib/python3.7/site-packages/ipykernel_launcher.py:12: UserWarning: Update your `Dense` call to the Keras 2 API: `Dense(activation=\"sigmoid\", units=1, kernel_initializer=\"uniform\")`\n",
      "  if sys.path[0] == '':\n"
     ]
    }
   ],
   "source": [
    "nn_classifier = Sequential()\n",
    "\n",
    "# Nodes count = average of input and output values\n",
    "\n",
    "# First hidden layer\n",
    "nn_classifier.add(Dense(output_dim = 6, init = 'uniform', activation = 'relu', input_dim = X_train.shape[1])) # relu is for rectifier\n",
    "\n",
    "# Second hidden layer\n",
    "nn_classifier.add(Dense(output_dim = 6, init = 'uniform', activation = 'relu')) # relu is for rectifier\n",
    "\n",
    "# Output layer\n",
    "nn_classifier.add(Dense(output_dim = 1, init = 'uniform', activation = 'sigmoid'))\n",
    "\n",
    "nn_classifier.compile(optimizer = 'adam', loss = 'binary_crossentropy', metrics = ['accuracy']) # adam is an optimized scholastic gradient descent\n"
   ]
  },
  {
   "cell_type": "code",
   "execution_count": 8,
   "metadata": {
    "scrolled": true
   },
   "outputs": [
    {
     "name": "stdout",
     "output_type": "stream",
     "text": [
      "WARNING:tensorflow:From /usr/local/lib/python3.7/site-packages/tensorflow/python/ops/math_ops.py:3066: to_int32 (from tensorflow.python.ops.math_ops) is deprecated and will be removed in a future version.\n",
      "Instructions for updating:\n",
      "Use tf.cast instead.\n",
      "Epoch 1/100\n",
      "8000/8000 [==============================] - 1s 118us/step - loss: 0.4881 - acc: 0.7955\n",
      "Epoch 2/100\n",
      "8000/8000 [==============================] - 1s 91us/step - loss: 0.4290 - acc: 0.7960\n",
      "Epoch 3/100\n",
      "8000/8000 [==============================] - 1s 92us/step - loss: 0.4247 - acc: 0.7960\n",
      "Epoch 4/100\n",
      "8000/8000 [==============================] - 1s 93us/step - loss: 0.4208 - acc: 0.8076\n",
      "Epoch 5/100\n",
      "8000/8000 [==============================] - 1s 96us/step - loss: 0.4180 - acc: 0.8214\n",
      "Epoch 6/100\n",
      "8000/8000 [==============================] - 1s 100us/step - loss: 0.4158 - acc: 0.8246\n",
      "Epoch 7/100\n",
      "8000/8000 [==============================] - 1s 91us/step - loss: 0.4146 - acc: 0.8275\n",
      "Epoch 8/100\n",
      "8000/8000 [==============================] - 1s 96us/step - loss: 0.4130 - acc: 0.8307\n",
      "Epoch 9/100\n",
      "8000/8000 [==============================] - 1s 93us/step - loss: 0.4116 - acc: 0.8319\n",
      "Epoch 10/100\n",
      "8000/8000 [==============================] - 1s 90us/step - loss: 0.4108 - acc: 0.8335\n",
      "Epoch 11/100\n",
      "8000/8000 [==============================] - 1s 95us/step - loss: 0.4101 - acc: 0.8332\n",
      "Epoch 12/100\n",
      "8000/8000 [==============================] - 1s 94us/step - loss: 0.4093 - acc: 0.8349\n",
      "Epoch 13/100\n",
      "8000/8000 [==============================] - 1s 92us/step - loss: 0.4081 - acc: 0.8336\n",
      "Epoch 14/100\n",
      "8000/8000 [==============================] - 1s 98us/step - loss: 0.4076 - acc: 0.8342\n",
      "Epoch 15/100\n",
      "8000/8000 [==============================] - 1s 95us/step - loss: 0.4059 - acc: 0.8351\n",
      "Epoch 16/100\n",
      "8000/8000 [==============================] - 1s 95us/step - loss: 0.4041 - acc: 0.8357\n",
      "Epoch 17/100\n",
      "8000/8000 [==============================] - 1s 105us/step - loss: 0.4026 - acc: 0.8349\n",
      "Epoch 18/100\n",
      "8000/8000 [==============================] - 1s 91us/step - loss: 0.4015 - acc: 0.8347\n",
      "Epoch 19/100\n",
      "8000/8000 [==============================] - 1s 89us/step - loss: 0.4008 - acc: 0.8366\n",
      "Epoch 20/100\n",
      "8000/8000 [==============================] - 1s 93us/step - loss: 0.3999 - acc: 0.8357\n",
      "Epoch 21/100\n",
      "8000/8000 [==============================] - 1s 88us/step - loss: 0.3995 - acc: 0.8344\n",
      "Epoch 22/100\n",
      "8000/8000 [==============================] - 1s 89us/step - loss: 0.3991 - acc: 0.8356\n",
      "Epoch 23/100\n",
      "8000/8000 [==============================] - 1s 90us/step - loss: 0.3980 - acc: 0.8351\n",
      "Epoch 24/100\n",
      "8000/8000 [==============================] - 1s 88us/step - loss: 0.3974 - acc: 0.8360\n",
      "Epoch 25/100\n",
      "8000/8000 [==============================] - 1s 89us/step - loss: 0.3975 - acc: 0.8346\n",
      "Epoch 26/100\n",
      "8000/8000 [==============================] - 1s 92us/step - loss: 0.3971 - acc: 0.8375\n",
      "Epoch 27/100\n",
      "8000/8000 [==============================] - 1s 89us/step - loss: 0.3964 - acc: 0.8362\n",
      "Epoch 28/100\n",
      "8000/8000 [==============================] - 1s 89us/step - loss: 0.3961 - acc: 0.8361\n",
      "Epoch 29/100\n",
      "8000/8000 [==============================] - 1s 88us/step - loss: 0.3963 - acc: 0.8364\n",
      "Epoch 30/100\n",
      "8000/8000 [==============================] - 1s 88us/step - loss: 0.3959 - acc: 0.8352\n",
      "Epoch 31/100\n",
      "8000/8000 [==============================] - 1s 92us/step - loss: 0.3957 - acc: 0.8351\n",
      "Epoch 32/100\n",
      "8000/8000 [==============================] - 1s 103us/step - loss: 0.3955 - acc: 0.8364\n",
      "Epoch 33/100\n",
      "8000/8000 [==============================] - 1s 103us/step - loss: 0.3958 - acc: 0.8364\n",
      "Epoch 34/100\n",
      "8000/8000 [==============================] - 1s 95us/step - loss: 0.3948 - acc: 0.8381\n",
      "Epoch 35/100\n",
      "8000/8000 [==============================] - 1s 94us/step - loss: 0.3947 - acc: 0.8365\n",
      "Epoch 36/100\n",
      "8000/8000 [==============================] - 1s 93us/step - loss: 0.3950 - acc: 0.8356\n",
      "Epoch 37/100\n",
      "8000/8000 [==============================] - 1s 95us/step - loss: 0.3942 - acc: 0.8371\n",
      "Epoch 38/100\n",
      "8000/8000 [==============================] - 1s 94us/step - loss: 0.3945 - acc: 0.8371\n",
      "Epoch 39/100\n",
      "8000/8000 [==============================] - 1s 93us/step - loss: 0.3946 - acc: 0.8365\n",
      "Epoch 40/100\n",
      "8000/8000 [==============================] - 1s 109us/step - loss: 0.3945 - acc: 0.8369\n",
      "Epoch 41/100\n",
      "8000/8000 [==============================] - 1s 127us/step - loss: 0.3944 - acc: 0.8369\n",
      "Epoch 42/100\n",
      "8000/8000 [==============================] - 1s 100us/step - loss: 0.3941 - acc: 0.8360\n",
      "Epoch 43/100\n",
      "8000/8000 [==============================] - 1s 97us/step - loss: 0.3943 - acc: 0.8351\n",
      "Epoch 44/100\n",
      "8000/8000 [==============================] - 1s 95us/step - loss: 0.3939 - acc: 0.8366\n",
      "Epoch 45/100\n",
      "8000/8000 [==============================] - 1s 94us/step - loss: 0.3935 - acc: 0.8366\n",
      "Epoch 46/100\n",
      "8000/8000 [==============================] - 1s 99us/step - loss: 0.3941 - acc: 0.8376\n",
      "Epoch 47/100\n",
      "8000/8000 [==============================] - 1s 99us/step - loss: 0.3931 - acc: 0.8376\n",
      "Epoch 48/100\n",
      "8000/8000 [==============================] - 1s 95us/step - loss: 0.3932 - acc: 0.8370\n",
      "Epoch 49/100\n",
      "8000/8000 [==============================] - 1s 95us/step - loss: 0.3930 - acc: 0.8387\n",
      "Epoch 50/100\n",
      "8000/8000 [==============================] - 1s 95us/step - loss: 0.3923 - acc: 0.8382\n",
      "Epoch 51/100\n",
      "8000/8000 [==============================] - 1s 96us/step - loss: 0.3902 - acc: 0.8397\n",
      "Epoch 52/100\n",
      "8000/8000 [==============================] - 1s 95us/step - loss: 0.3893 - acc: 0.8387\n",
      "Epoch 53/100\n",
      "8000/8000 [==============================] - 1s 93us/step - loss: 0.3866 - acc: 0.8429\n",
      "Epoch 54/100\n",
      "8000/8000 [==============================] - 1s 103us/step - loss: 0.3828 - acc: 0.8412\n",
      "Epoch 55/100\n",
      "8000/8000 [==============================] - 1s 105us/step - loss: 0.3795 - acc: 0.8410\n",
      "Epoch 56/100\n",
      "8000/8000 [==============================] - 1s 97us/step - loss: 0.3777 - acc: 0.8412\n",
      "Epoch 57/100\n",
      "8000/8000 [==============================] - 1s 95us/step - loss: 0.3739 - acc: 0.8454\n",
      "Epoch 58/100\n",
      "8000/8000 [==============================] - 1s 105us/step - loss: 0.3710 - acc: 0.8447\n",
      "Epoch 59/100\n",
      "8000/8000 [==============================] - 1s 103us/step - loss: 0.3697 - acc: 0.8445\n",
      "Epoch 60/100\n",
      "8000/8000 [==============================] - 1s 103us/step - loss: 0.3669 - acc: 0.8470\n",
      "Epoch 61/100\n",
      "8000/8000 [==============================] - 1s 122us/step - loss: 0.3652 - acc: 0.8466\n",
      "Epoch 62/100\n",
      "8000/8000 [==============================] - 1s 129us/step - loss: 0.3639 - acc: 0.8479\n",
      "Epoch 63/100\n",
      "8000/8000 [==============================] - 1s 119us/step - loss: 0.3618 - acc: 0.8499\n",
      "Epoch 64/100\n",
      "8000/8000 [==============================] - 1s 113us/step - loss: 0.3609 - acc: 0.8500\n",
      "Epoch 65/100\n",
      "8000/8000 [==============================] - 1s 91us/step - loss: 0.3581 - acc: 0.8512\n",
      "Epoch 66/100\n",
      "8000/8000 [==============================] - 1s 104us/step - loss: 0.3555 - acc: 0.8531\n",
      "Epoch 67/100\n",
      "8000/8000 [==============================] - 1s 88us/step - loss: 0.3535 - acc: 0.8545\n",
      "Epoch 68/100\n",
      "8000/8000 [==============================] - 1s 85us/step - loss: 0.3522 - acc: 0.8559\n",
      "Epoch 69/100\n",
      "8000/8000 [==============================] - 1s 86us/step - loss: 0.3508 - acc: 0.8561\n",
      "Epoch 70/100\n",
      "8000/8000 [==============================] - 1s 90us/step - loss: 0.3496 - acc: 0.8562\n",
      "Epoch 71/100\n",
      "8000/8000 [==============================] - 1s 84us/step - loss: 0.3479 - acc: 0.8544\n",
      "Epoch 72/100\n",
      "8000/8000 [==============================] - 1s 83us/step - loss: 0.3479 - acc: 0.8561\n",
      "Epoch 73/100\n",
      "8000/8000 [==============================] - 1s 83us/step - loss: 0.3465 - acc: 0.8577\n",
      "Epoch 74/100\n",
      "8000/8000 [==============================] - 1s 83us/step - loss: 0.3471 - acc: 0.8556\n",
      "Epoch 75/100\n",
      "8000/8000 [==============================] - 1s 83us/step - loss: 0.3451 - acc: 0.8567\n",
      "Epoch 76/100\n",
      "8000/8000 [==============================] - 1s 83us/step - loss: 0.3457 - acc: 0.8569\n",
      "Epoch 77/100\n",
      "8000/8000 [==============================] - 1s 84us/step - loss: 0.3449 - acc: 0.8571\n",
      "Epoch 78/100\n",
      "8000/8000 [==============================] - 1s 83us/step - loss: 0.3448 - acc: 0.8591\n",
      "Epoch 79/100\n",
      "8000/8000 [==============================] - 1s 83us/step - loss: 0.3439 - acc: 0.8556\n",
      "Epoch 80/100\n"
     ]
    },
    {
     "name": "stdout",
     "output_type": "stream",
     "text": [
      "8000/8000 [==============================] - 1s 83us/step - loss: 0.3447 - acc: 0.8577\n",
      "Epoch 81/100\n",
      "8000/8000 [==============================] - 1s 83us/step - loss: 0.3432 - acc: 0.8581\n",
      "Epoch 82/100\n",
      "8000/8000 [==============================] - 1s 83us/step - loss: 0.3436 - acc: 0.8586\n",
      "Epoch 83/100\n",
      "8000/8000 [==============================] - 1s 83us/step - loss: 0.3431 - acc: 0.8565\n",
      "Epoch 84/100\n",
      "8000/8000 [==============================] - 1s 83us/step - loss: 0.3427 - acc: 0.8582\n",
      "Epoch 85/100\n",
      "8000/8000 [==============================] - 1s 83us/step - loss: 0.3425 - acc: 0.8585\n",
      "Epoch 86/100\n",
      "8000/8000 [==============================] - 1s 83us/step - loss: 0.3426 - acc: 0.8601\n",
      "Epoch 87/100\n",
      "8000/8000 [==============================] - 1s 83us/step - loss: 0.3420 - acc: 0.8602\n",
      "Epoch 88/100\n",
      "8000/8000 [==============================] - 1s 83us/step - loss: 0.3412 - acc: 0.8592\n",
      "Epoch 89/100\n",
      "8000/8000 [==============================] - 1s 83us/step - loss: 0.3413 - acc: 0.8601\n",
      "Epoch 90/100\n",
      "8000/8000 [==============================] - 1s 83us/step - loss: 0.3421 - acc: 0.8602\n",
      "Epoch 91/100\n",
      "8000/8000 [==============================] - 1s 83us/step - loss: 0.3415 - acc: 0.8610\n",
      "Epoch 92/100\n",
      "8000/8000 [==============================] - 1s 83us/step - loss: 0.3417 - acc: 0.8575\n",
      "Epoch 93/100\n",
      "8000/8000 [==============================] - 1s 82us/step - loss: 0.3421 - acc: 0.8595\n",
      "Epoch 94/100\n",
      "8000/8000 [==============================] - 1s 83us/step - loss: 0.3412 - acc: 0.8596\n",
      "Epoch 95/100\n",
      "8000/8000 [==============================] - 1s 83us/step - loss: 0.3412 - acc: 0.8585\n",
      "Epoch 96/100\n",
      "8000/8000 [==============================] - 1s 83us/step - loss: 0.3411 - acc: 0.8610\n",
      "Epoch 97/100\n",
      "8000/8000 [==============================] - 1s 82us/step - loss: 0.3416 - acc: 0.8607\n",
      "Epoch 98/100\n",
      "8000/8000 [==============================] - 1s 83us/step - loss: 0.3414 - acc: 0.8587\n",
      "Epoch 99/100\n",
      "8000/8000 [==============================] - 1s 82us/step - loss: 0.3405 - acc: 0.8612\n",
      "Epoch 100/100\n",
      "8000/8000 [==============================] - 1s 83us/step - loss: 0.3411 - acc: 0.8591\n"
     ]
    },
    {
     "data": {
      "text/plain": [
       "<keras.callbacks.History at 0x12dbd1518>"
      ]
     },
     "execution_count": 8,
     "metadata": {},
     "output_type": "execute_result"
    }
   ],
   "source": [
    "nn_classifier.fit(X_train, y_train, batch_size = 10, epochs = 100)"
   ]
  },
  {
   "cell_type": "markdown",
   "metadata": {},
   "source": [
    "### Making predictions"
   ]
  },
  {
   "cell_type": "code",
   "execution_count": 9,
   "metadata": {},
   "outputs": [],
   "source": [
    "y_pred = nn_classifier.predict(X_test)\n",
    "y_pred = y_pred > 0.5"
   ]
  },
  {
   "cell_type": "code",
   "execution_count": 10,
   "metadata": {},
   "outputs": [
    {
     "name": "stdout",
     "output_type": "stream",
     "text": [
      "Accuracy: 86.2%\n",
      "Confusion matrix: \n",
      "[[1499   96]\n",
      " [ 180  225]]\n"
     ]
    }
   ],
   "source": [
    "from sklearn.metrics import confusion_matrix, accuracy_score\n",
    "\n",
    "print(\"Accuracy: {}%\".format(accuracy_score(y_test, y_pred)*100))\n",
    "cm = confusion_matrix(y_test, y_pred)\n",
    "print(\"Confusion matrix: \")\n",
    "print(\"{}\".format(cm))"
   ]
  }
 ],
 "metadata": {
  "kernelspec": {
   "display_name": "Python 3",
   "language": "python",
   "name": "python3"
  },
  "language_info": {
   "codemirror_mode": {
    "name": "ipython",
    "version": 3
   },
   "file_extension": ".py",
   "mimetype": "text/x-python",
   "name": "python",
   "nbconvert_exporter": "python",
   "pygments_lexer": "ipython3",
   "version": "3.7.2"
  }
 },
 "nbformat": 4,
 "nbformat_minor": 2
}
