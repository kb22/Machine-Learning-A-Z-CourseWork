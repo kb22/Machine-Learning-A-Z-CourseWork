{
  "nbformat": 4,
  "nbformat_minor": 0,
  "metadata": {
    "colab": {
      "name": "Deep Learning.ipynb",
      "version": "0.3.2",
      "provenance": [],
      "collapsed_sections": [],
      "toc_visible": true
    },
    "kernelspec": {
      "name": "python3",
      "display_name": "Python 3"
    },
    "accelerator": "GPU"
  },
  "cells": [
    {
      "metadata": {
        "id": "XnNuKrDfFgZa",
        "colab_type": "text"
      },
      "cell_type": "markdown",
      "source": [
        "# Deep Learning\n",
        "\n",
        "In this notebook, I'll work with the churn dataset and use ANN and CNN to detect patterns."
      ]
    },
    {
      "metadata": {
        "id": "SoIW8Cg9LOa1",
        "colab_type": "text"
      },
      "cell_type": "markdown",
      "source": [
        "I'll first get the dataset for CNN, extract it and then setup the GPU usage."
      ]
    },
    {
      "metadata": {
        "id": "tvK3T2rcHw6j",
        "colab_type": "code",
        "colab": {}
      },
      "cell_type": "code",
      "source": [
        "!wget https://sds-platform-private.s3-us-east-2.amazonaws.com/uploads/P14-Convolutional-Neural-Networks.zip"
      ],
      "execution_count": 0,
      "outputs": []
    },
    {
      "metadata": {
        "id": "W7CxGzwoGfPd",
        "colab_type": "code",
        "colab": {}
      },
      "cell_type": "code",
      "source": [
        "!unzip P14-Convolutional-Neural-Networks.zip"
      ],
      "execution_count": 0,
      "outputs": []
    },
    {
      "metadata": {
        "id": "FFmI2FrQJ_tO",
        "colab_type": "code",
        "colab": {}
      },
      "cell_type": "code",
      "source": [
        "import tensorflow as tf\n",
        "config = tf.ConfigProto()\n",
        "config.gpu_options.allow_growth = True\n",
        "session = tf.Session(config=config)"
      ],
      "execution_count": 0,
      "outputs": []
    },
    {
      "metadata": {
        "id": "AGqxfRzxFgZb",
        "colab_type": "text"
      },
      "cell_type": "markdown",
      "source": [
        "## Artificial Neural Networks"
      ]
    },
    {
      "metadata": {
        "id": "5t1gqWSQFgZc",
        "colab_type": "text"
      },
      "cell_type": "markdown",
      "source": [
        "### Data Processing"
      ]
    },
    {
      "metadata": {
        "id": "OYXgStFHFgZd",
        "colab_type": "code",
        "colab": {}
      },
      "cell_type": "code",
      "source": [
        "import numpy as np\n",
        "import pandas as pd\n",
        "import matplotlib.pyplot as plt\n",
        "%matplotlib inline"
      ],
      "execution_count": 0,
      "outputs": []
    },
    {
      "metadata": {
        "id": "jcTxDzmYFgZh",
        "colab_type": "code",
        "colab": {}
      },
      "cell_type": "code",
      "source": [
        "dataset = pd.read_csv('Churn_Modelling.csv')\n",
        "X = dataset.iloc[:, 3:-1]\n",
        "y = dataset.iloc[:, -1]"
      ],
      "execution_count": 0,
      "outputs": []
    },
    {
      "metadata": {
        "id": "Zrl0WoZxFgZj",
        "colab_type": "code",
        "colab": {
          "base_uri": "https://localhost:8080/",
          "height": 139
        },
        "outputId": "06545403-33d6-4d80-be5f-6e93502af9f9"
      },
      "cell_type": "code",
      "source": [
        "from sklearn.preprocessing import LabelEncoder, OneHotEncoder\n",
        "\n",
        "labelEncoder_1 = LabelEncoder()\n",
        "X.iloc[:, 1] = labelEncoder_1.fit_transform(X.iloc[:, 1])\n",
        "labelEncoder_2 = LabelEncoder()\n",
        "X.iloc[:, 2] = labelEncoder_2.fit_transform(X.iloc[:, 2])\n",
        "oneHotEncoder = OneHotEncoder(categorical_features = [1])\n",
        "X = oneHotEncoder.fit_transform(X).toarray()\n",
        "\n",
        "# Avoid dummy variable trap\n",
        "X = X[:, 1:]"
      ],
      "execution_count": 6,
      "outputs": [
        {
          "output_type": "stream",
          "text": [
            "/usr/local/lib/python3.6/dist-packages/sklearn/preprocessing/_encoders.py:371: FutureWarning: The handling of integer data will change in version 0.22. Currently, the categories are determined based on the range [0, max(values)], while in the future they will be determined based on the unique values.\n",
            "If you want the future behaviour and silence this warning, you can specify \"categories='auto'\".\n",
            "In case you used a LabelEncoder before this OneHotEncoder to convert the categories to integers, then you can now use the OneHotEncoder directly.\n",
            "  warnings.warn(msg, FutureWarning)\n",
            "/usr/local/lib/python3.6/dist-packages/sklearn/preprocessing/_encoders.py:392: DeprecationWarning: The 'categorical_features' keyword is deprecated in version 0.20 and will be removed in 0.22. You can use the ColumnTransformer instead.\n",
            "  \"use the ColumnTransformer instead.\", DeprecationWarning)\n"
          ],
          "name": "stderr"
        }
      ]
    },
    {
      "metadata": {
        "id": "90HoBmK6FgZo",
        "colab_type": "code",
        "colab": {}
      },
      "cell_type": "code",
      "source": [
        "from sklearn.model_selection import train_test_split\n",
        "\n",
        "X_train, X_test, y_train, y_test = train_test_split(X, y, test_size = 0.2, random_state = 0)"
      ],
      "execution_count": 0,
      "outputs": []
    },
    {
      "metadata": {
        "id": "EVakfC6AFgZq",
        "colab_type": "code",
        "colab": {}
      },
      "cell_type": "code",
      "source": [
        "from sklearn.preprocessing import StandardScaler\n",
        "\n",
        "standardScaler = StandardScaler()\n",
        "X_train = standardScaler.fit_transform(X_train)\n",
        "X_test = standardScaler.transform(X_test)"
      ],
      "execution_count": 0,
      "outputs": []
    },
    {
      "metadata": {
        "id": "vuZWx3ZCFgZt",
        "colab_type": "text"
      },
      "cell_type": "markdown",
      "source": [
        "### Build the ANN"
      ]
    },
    {
      "metadata": {
        "id": "ZGYp1nCZFgZt",
        "colab_type": "code",
        "colab": {
          "base_uri": "https://localhost:8080/",
          "height": 34
        },
        "outputId": "b3c78889-9203-43d5-d8b7-426a78df116f"
      },
      "cell_type": "code",
      "source": [
        "import os\n",
        "os.environ['KERAS_BACKEND'] = 'tensorflow'\n",
        "import keras.backend as K\n",
        "K.set_image_dim_ordering('tf')\n",
        "import keras\n",
        "from keras.models import Sequential\n",
        "from keras.layers import Dense"
      ],
      "execution_count": 9,
      "outputs": [
        {
          "output_type": "stream",
          "text": [
            "Using TensorFlow backend.\n"
          ],
          "name": "stderr"
        }
      ]
    },
    {
      "metadata": {
        "id": "FgsxAjX6FgZw",
        "colab_type": "code",
        "colab": {
          "base_uri": "https://localhost:8080/",
          "height": 190
        },
        "outputId": "4590cfdf-297e-4373-9a0f-af571b3bef67"
      },
      "cell_type": "code",
      "source": [
        "ann_classifier = Sequential()\n",
        "\n",
        "# Nodes count = average of input and output values\n",
        "\n",
        "# First hidden layer\n",
        "ann_classifier.add(Dense(output_dim = 6, init = 'uniform', activation = 'relu', input_dim = X_train.shape[1])) # relu is for rectifier\n",
        "# Second hidden layer\n",
        "ann_classifier.add(Dense(output_dim = 6, init = 'uniform', activation = 'relu')) # relu is for rectifier\n",
        "# Output layer\n",
        "ann_classifier.add(Dense(output_dim = 1, init = 'uniform', activation = 'sigmoid'))\n",
        "\n",
        "ann_classifier.compile(optimizer = 'adam', loss = 'binary_crossentropy', metrics = ['accuracy']) # adam is an optimized scholastic gradient descent"
      ],
      "execution_count": 10,
      "outputs": [
        {
          "output_type": "stream",
          "text": [
            "WARNING:tensorflow:From /usr/local/lib/python3.6/dist-packages/tensorflow/python/framework/op_def_library.py:263: colocate_with (from tensorflow.python.framework.ops) is deprecated and will be removed in a future version.\n",
            "Instructions for updating:\n",
            "Colocations handled automatically by placer.\n"
          ],
          "name": "stdout"
        },
        {
          "output_type": "stream",
          "text": [
            "/usr/local/lib/python3.6/dist-packages/ipykernel_launcher.py:6: UserWarning: Update your `Dense` call to the Keras 2 API: `Dense(activation=\"relu\", input_dim=11, units=6, kernel_initializer=\"uniform\")`\n",
            "  \n",
            "/usr/local/lib/python3.6/dist-packages/ipykernel_launcher.py:8: UserWarning: Update your `Dense` call to the Keras 2 API: `Dense(activation=\"relu\", units=6, kernel_initializer=\"uniform\")`\n",
            "  \n",
            "/usr/local/lib/python3.6/dist-packages/ipykernel_launcher.py:10: UserWarning: Update your `Dense` call to the Keras 2 API: `Dense(activation=\"sigmoid\", units=1, kernel_initializer=\"uniform\")`\n",
            "  # Remove the CWD from sys.path while we load stuff.\n"
          ],
          "name": "stderr"
        }
      ]
    },
    {
      "metadata": {
        "scrolled": true,
        "id": "HZ_67-RjFgZz",
        "colab_type": "code",
        "colab": {
          "base_uri": "https://localhost:8080/",
          "height": 3505
        },
        "outputId": "4c69e940-f9a0-42c5-be44-6861c86ba6a1"
      },
      "cell_type": "code",
      "source": [
        "ann_classifier.fit(X_train, y_train, batch_size = 10, epochs = 100)"
      ],
      "execution_count": 11,
      "outputs": [
        {
          "output_type": "stream",
          "text": [
            "WARNING:tensorflow:From /usr/local/lib/python3.6/dist-packages/tensorflow/python/ops/math_ops.py:3066: to_int32 (from tensorflow.python.ops.math_ops) is deprecated and will be removed in a future version.\n",
            "Instructions for updating:\n",
            "Use tf.cast instead.\n",
            "Epoch 1/100\n",
            "8000/8000 [==============================] - 4s 470us/step - loss: 0.4846 - acc: 0.7955\n",
            "Epoch 2/100\n",
            "8000/8000 [==============================] - 3s 416us/step - loss: 0.4271 - acc: 0.7960\n",
            "Epoch 3/100\n",
            "8000/8000 [==============================] - 3s 416us/step - loss: 0.4217 - acc: 0.7975\n",
            "Epoch 4/100\n",
            "8000/8000 [==============================] - 3s 415us/step - loss: 0.4186 - acc: 0.8224\n",
            "Epoch 5/100\n",
            "8000/8000 [==============================] - 3s 417us/step - loss: 0.4164 - acc: 0.8262\n",
            "Epoch 6/100\n",
            "8000/8000 [==============================] - 3s 417us/step - loss: 0.4145 - acc: 0.8289\n",
            "Epoch 7/100\n",
            "8000/8000 [==============================] - 3s 430us/step - loss: 0.4130 - acc: 0.8329\n",
            "Epoch 8/100\n",
            "8000/8000 [==============================] - 4s 440us/step - loss: 0.4118 - acc: 0.8314\n",
            "Epoch 9/100\n",
            "8000/8000 [==============================] - 4s 439us/step - loss: 0.4110 - acc: 0.8332\n",
            "Epoch 10/100\n",
            "8000/8000 [==============================] - 3s 423us/step - loss: 0.4105 - acc: 0.8340\n",
            "Epoch 11/100\n",
            "8000/8000 [==============================] - 3s 416us/step - loss: 0.4089 - acc: 0.8339\n",
            "Epoch 12/100\n",
            "8000/8000 [==============================] - 3s 415us/step - loss: 0.4080 - acc: 0.8352\n",
            "Epoch 13/100\n",
            "8000/8000 [==============================] - 3s 416us/step - loss: 0.4075 - acc: 0.8331\n",
            "Epoch 14/100\n",
            "8000/8000 [==============================] - 3s 417us/step - loss: 0.4067 - acc: 0.8322\n",
            "Epoch 15/100\n",
            "8000/8000 [==============================] - 3s 412us/step - loss: 0.4062 - acc: 0.8329\n",
            "Epoch 16/100\n",
            "8000/8000 [==============================] - 3s 414us/step - loss: 0.4056 - acc: 0.8351\n",
            "Epoch 17/100\n",
            "8000/8000 [==============================] - 3s 415us/step - loss: 0.4053 - acc: 0.8340\n",
            "Epoch 18/100\n",
            "8000/8000 [==============================] - 3s 415us/step - loss: 0.4050 - acc: 0.8337\n",
            "Epoch 19/100\n",
            "8000/8000 [==============================] - 3s 416us/step - loss: 0.4049 - acc: 0.8352\n",
            "Epoch 20/100\n",
            "8000/8000 [==============================] - 3s 414us/step - loss: 0.4046 - acc: 0.8352\n",
            "Epoch 21/100\n",
            "8000/8000 [==============================] - 3s 411us/step - loss: 0.4042 - acc: 0.8347\n",
            "Epoch 22/100\n",
            "8000/8000 [==============================] - 3s 415us/step - loss: 0.4036 - acc: 0.8340\n",
            "Epoch 23/100\n",
            "8000/8000 [==============================] - 3s 412us/step - loss: 0.4042 - acc: 0.8350\n",
            "Epoch 24/100\n",
            "8000/8000 [==============================] - 3s 410us/step - loss: 0.4037 - acc: 0.8342\n",
            "Epoch 25/100\n",
            "8000/8000 [==============================] - 3s 414us/step - loss: 0.4032 - acc: 0.8346\n",
            "Epoch 26/100\n",
            "8000/8000 [==============================] - 3s 411us/step - loss: 0.4034 - acc: 0.8362\n",
            "Epoch 27/100\n",
            "8000/8000 [==============================] - 3s 415us/step - loss: 0.4034 - acc: 0.8342\n",
            "Epoch 28/100\n",
            "8000/8000 [==============================] - 3s 411us/step - loss: 0.4029 - acc: 0.8346\n",
            "Epoch 29/100\n",
            "8000/8000 [==============================] - 3s 412us/step - loss: 0.4028 - acc: 0.8345\n",
            "Epoch 30/100\n",
            "8000/8000 [==============================] - 3s 411us/step - loss: 0.4026 - acc: 0.8330\n",
            "Epoch 31/100\n",
            "8000/8000 [==============================] - 3s 415us/step - loss: 0.4023 - acc: 0.8360\n",
            "Epoch 32/100\n",
            "8000/8000 [==============================] - 3s 414us/step - loss: 0.4028 - acc: 0.8344\n",
            "Epoch 33/100\n",
            "8000/8000 [==============================] - 3s 413us/step - loss: 0.4025 - acc: 0.8345\n",
            "Epoch 34/100\n",
            "8000/8000 [==============================] - 3s 415us/step - loss: 0.4022 - acc: 0.8341\n",
            "Epoch 35/100\n",
            "8000/8000 [==============================] - 3s 414us/step - loss: 0.4026 - acc: 0.8347\n",
            "Epoch 36/100\n",
            "8000/8000 [==============================] - 3s 415us/step - loss: 0.4019 - acc: 0.8336\n",
            "Epoch 37/100\n",
            "8000/8000 [==============================] - 3s 413us/step - loss: 0.4024 - acc: 0.8335\n",
            "Epoch 38/100\n",
            "8000/8000 [==============================] - 3s 414us/step - loss: 0.4019 - acc: 0.8337\n",
            "Epoch 39/100\n",
            "8000/8000 [==============================] - 3s 411us/step - loss: 0.4017 - acc: 0.8337\n",
            "Epoch 40/100\n",
            "8000/8000 [==============================] - 3s 414us/step - loss: 0.4018 - acc: 0.8332\n",
            "Epoch 41/100\n",
            "8000/8000 [==============================] - 3s 413us/step - loss: 0.4018 - acc: 0.8352\n",
            "Epoch 42/100\n",
            "8000/8000 [==============================] - 3s 415us/step - loss: 0.4020 - acc: 0.8350\n",
            "Epoch 43/100\n",
            "8000/8000 [==============================] - 3s 413us/step - loss: 0.4020 - acc: 0.8347\n",
            "Epoch 44/100\n",
            "8000/8000 [==============================] - 3s 416us/step - loss: 0.4018 - acc: 0.8349\n",
            "Epoch 45/100\n",
            "8000/8000 [==============================] - 3s 413us/step - loss: 0.4018 - acc: 0.8350\n",
            "Epoch 46/100\n",
            "8000/8000 [==============================] - 3s 418us/step - loss: 0.4016 - acc: 0.8346\n",
            "Epoch 47/100\n",
            "8000/8000 [==============================] - 3s 414us/step - loss: 0.4020 - acc: 0.8347\n",
            "Epoch 48/100\n",
            "8000/8000 [==============================] - 3s 409us/step - loss: 0.4012 - acc: 0.8341\n",
            "Epoch 49/100\n",
            "8000/8000 [==============================] - 3s 417us/step - loss: 0.4014 - acc: 0.8359\n",
            "Epoch 50/100\n",
            "8000/8000 [==============================] - 3s 417us/step - loss: 0.4017 - acc: 0.8334\n",
            "Epoch 51/100\n",
            "8000/8000 [==============================] - 3s 414us/step - loss: 0.4013 - acc: 0.8347\n",
            "Epoch 52/100\n",
            "8000/8000 [==============================] - 3s 416us/step - loss: 0.4011 - acc: 0.8355\n",
            "Epoch 53/100\n",
            "8000/8000 [==============================] - 3s 417us/step - loss: 0.4010 - acc: 0.8344\n",
            "Epoch 54/100\n",
            "8000/8000 [==============================] - 3s 414us/step - loss: 0.4012 - acc: 0.8346\n",
            "Epoch 55/100\n",
            "8000/8000 [==============================] - 3s 417us/step - loss: 0.4013 - acc: 0.8361\n",
            "Epoch 56/100\n",
            "8000/8000 [==============================] - 3s 415us/step - loss: 0.4012 - acc: 0.8356\n",
            "Epoch 57/100\n",
            "8000/8000 [==============================] - 3s 415us/step - loss: 0.4013 - acc: 0.8332\n",
            "Epoch 58/100\n",
            "8000/8000 [==============================] - 3s 414us/step - loss: 0.4012 - acc: 0.8352\n",
            "Epoch 59/100\n",
            "8000/8000 [==============================] - 3s 416us/step - loss: 0.4009 - acc: 0.8347\n",
            "Epoch 60/100\n",
            "8000/8000 [==============================] - 3s 411us/step - loss: 0.4012 - acc: 0.8355\n",
            "Epoch 61/100\n",
            "8000/8000 [==============================] - 3s 414us/step - loss: 0.4012 - acc: 0.8354\n",
            "Epoch 62/100\n",
            "8000/8000 [==============================] - 3s 417us/step - loss: 0.4013 - acc: 0.8341\n",
            "Epoch 63/100\n",
            "8000/8000 [==============================] - 3s 415us/step - loss: 0.4013 - acc: 0.8341\n",
            "Epoch 64/100\n",
            "8000/8000 [==============================] - 3s 428us/step - loss: 0.4005 - acc: 0.8342\n",
            "Epoch 65/100\n",
            "8000/8000 [==============================] - 4s 447us/step - loss: 0.4006 - acc: 0.8339\n",
            "Epoch 66/100\n",
            "8000/8000 [==============================] - 3s 417us/step - loss: 0.4005 - acc: 0.8355\n",
            "Epoch 67/100\n",
            "8000/8000 [==============================] - 3s 413us/step - loss: 0.4011 - acc: 0.8355\n",
            "Epoch 68/100\n",
            "8000/8000 [==============================] - 3s 419us/step - loss: 0.4007 - acc: 0.8344\n",
            "Epoch 69/100\n",
            "8000/8000 [==============================] - 3s 414us/step - loss: 0.4010 - acc: 0.8354\n",
            "Epoch 70/100\n",
            "8000/8000 [==============================] - 3s 413us/step - loss: 0.4009 - acc: 0.8356\n",
            "Epoch 71/100\n",
            "8000/8000 [==============================] - 3s 417us/step - loss: 0.4010 - acc: 0.8345\n",
            "Epoch 72/100\n",
            "8000/8000 [==============================] - 3s 414us/step - loss: 0.4009 - acc: 0.8345\n",
            "Epoch 73/100\n",
            "8000/8000 [==============================] - 3s 415us/step - loss: 0.4009 - acc: 0.8330\n",
            "Epoch 74/100\n",
            "8000/8000 [==============================] - 3s 412us/step - loss: 0.4009 - acc: 0.8342\n",
            "Epoch 75/100\n",
            "8000/8000 [==============================] - 3s 412us/step - loss: 0.4009 - acc: 0.8359\n",
            "Epoch 76/100\n",
            "8000/8000 [==============================] - 3s 417us/step - loss: 0.4009 - acc: 0.8349\n",
            "Epoch 77/100\n",
            "8000/8000 [==============================] - 3s 417us/step - loss: 0.4011 - acc: 0.8371\n",
            "Epoch 78/100\n",
            "8000/8000 [==============================] - 3s 416us/step - loss: 0.4008 - acc: 0.8351\n",
            "Epoch 79/100\n",
            "8000/8000 [==============================] - 3s 415us/step - loss: 0.4007 - acc: 0.8347\n",
            "Epoch 80/100\n",
            "8000/8000 [==============================] - 3s 415us/step - loss: 0.4006 - acc: 0.8357\n",
            "Epoch 81/100\n",
            "8000/8000 [==============================] - 3s 413us/step - loss: 0.4009 - acc: 0.8345\n",
            "Epoch 82/100\n",
            "8000/8000 [==============================] - 3s 414us/step - loss: 0.4006 - acc: 0.8349\n",
            "Epoch 83/100\n",
            "8000/8000 [==============================] - 3s 416us/step - loss: 0.4006 - acc: 0.8367\n",
            "Epoch 84/100\n",
            "8000/8000 [==============================] - 3s 413us/step - loss: 0.4008 - acc: 0.8344\n",
            "Epoch 85/100\n",
            "8000/8000 [==============================] - 3s 414us/step - loss: 0.4006 - acc: 0.8355\n",
            "Epoch 86/100\n",
            "8000/8000 [==============================] - 3s 416us/step - loss: 0.4008 - acc: 0.8352\n",
            "Epoch 87/100\n",
            "8000/8000 [==============================] - 3s 414us/step - loss: 0.4007 - acc: 0.8359\n",
            "Epoch 88/100\n",
            "8000/8000 [==============================] - 3s 415us/step - loss: 0.4007 - acc: 0.8339\n",
            "Epoch 89/100\n",
            "8000/8000 [==============================] - 3s 419us/step - loss: 0.4009 - acc: 0.8346\n",
            "Epoch 90/100\n",
            "8000/8000 [==============================] - 3s 414us/step - loss: 0.4003 - acc: 0.8359\n",
            "Epoch 91/100\n",
            "8000/8000 [==============================] - 3s 415us/step - loss: 0.4001 - acc: 0.8336\n",
            "Epoch 92/100\n",
            "8000/8000 [==============================] - 3s 416us/step - loss: 0.4007 - acc: 0.8347\n",
            "Epoch 93/100\n",
            "8000/8000 [==============================] - 3s 414us/step - loss: 0.4006 - acc: 0.8352\n",
            "Epoch 94/100\n",
            "8000/8000 [==============================] - 3s 415us/step - loss: 0.4006 - acc: 0.8352\n",
            "Epoch 95/100\n",
            "8000/8000 [==============================] - 3s 415us/step - loss: 0.4007 - acc: 0.8357\n",
            "Epoch 96/100\n",
            "8000/8000 [==============================] - 3s 419us/step - loss: 0.4002 - acc: 0.8356\n",
            "Epoch 97/100\n",
            "8000/8000 [==============================] - 3s 422us/step - loss: 0.4003 - acc: 0.8366\n",
            "Epoch 98/100\n",
            "8000/8000 [==============================] - 3s 427us/step - loss: 0.4007 - acc: 0.8337\n",
            "Epoch 99/100\n",
            "8000/8000 [==============================] - 3s 416us/step - loss: 0.4005 - acc: 0.8354\n",
            "Epoch 100/100\n",
            "8000/8000 [==============================] - 3s 425us/step - loss: 0.4006 - acc: 0.8364\n"
          ],
          "name": "stdout"
        },
        {
          "output_type": "execute_result",
          "data": {
            "text/plain": [
              "<keras.callbacks.History at 0x7f65f08d24a8>"
            ]
          },
          "metadata": {
            "tags": []
          },
          "execution_count": 11
        }
      ]
    },
    {
      "metadata": {
        "id": "9CxTn_GkFgZ1",
        "colab_type": "text"
      },
      "cell_type": "markdown",
      "source": [
        "### Making predictions"
      ]
    },
    {
      "metadata": {
        "id": "4f2MPwyhFgZ2",
        "colab_type": "code",
        "colab": {}
      },
      "cell_type": "code",
      "source": [
        "y_pred = ann_classifier.predict(X_test)\n",
        "y_pred = y_pred > 0.5"
      ],
      "execution_count": 0,
      "outputs": []
    },
    {
      "metadata": {
        "id": "tkoHOMG4FgZ5",
        "colab_type": "code",
        "colab": {
          "base_uri": "https://localhost:8080/",
          "height": 85
        },
        "outputId": "a691402c-ea33-4897-89b2-46782485a9dc"
      },
      "cell_type": "code",
      "source": [
        "from sklearn.metrics import confusion_matrix, accuracy_score\n",
        "\n",
        "print(\"Accuracy: {}%\".format(accuracy_score(y_test, y_pred)*100))\n",
        "cm = confusion_matrix(y_test, y_pred)\n",
        "print(\"Confusion matrix: \")\n",
        "print(\"{}\".format(cm))"
      ],
      "execution_count": 14,
      "outputs": [
        {
          "output_type": "stream",
          "text": [
            "Accuracy: 83.95%\n",
            "Confusion matrix: \n",
            "[[1538   57]\n",
            " [ 264  141]]\n"
          ],
          "name": "stdout"
        }
      ]
    },
    {
      "metadata": {
        "id": "EGCY4OIjFgZ7",
        "colab_type": "text"
      },
      "cell_type": "markdown",
      "source": [
        "## Convolutional Neural Network"
      ]
    },
    {
      "metadata": {
        "id": "Z2S58PA8FgZ8",
        "colab_type": "code",
        "colab": {}
      },
      "cell_type": "code",
      "source": [
        "from keras.layers import Convolution2D, MaxPooling2D, Flatten"
      ],
      "execution_count": 0,
      "outputs": []
    },
    {
      "metadata": {
        "id": "zEuaI3NPFgZ_",
        "colab_type": "text"
      },
      "cell_type": "markdown",
      "source": [
        "### Build CNN\n",
        "\n",
        "1. Convolution\n",
        "2. Max Pooling\n",
        "3. Flatten\n",
        "4. Full Connection"
      ]
    },
    {
      "metadata": {
        "id": "ULePgLDAFgaB",
        "colab_type": "code",
        "colab": {}
      },
      "cell_type": "code",
      "source": [
        "classifier = Sequential()\n",
        "classifier.add(Convolution2D(32, (3, 3), input_shape = (64, 64, 3), activation = 'relu'))\n",
        "classifier.add(MaxPooling2D(pool_size = (2, 2), data_format=\"channels_last\"))\n",
        "classifier.add(Convolution2D(32, (3, 3), activation = 'relu'))\n",
        "classifier.add(MaxPooling2D(pool_size = (2, 2), data_format=\"channels_last\"))\n",
        "classifier.add(Flatten())\n",
        "classifier.add(Dense(activation = 'relu', units=128))\n",
        "classifier.add(Dense(activation = 'sigmoid', units=1))\n",
        "classifier.compile(optimizer = 'adam', loss = 'binary_crossentropy', metrics = ['accuracy'])"
      ],
      "execution_count": 0,
      "outputs": []
    },
    {
      "metadata": {
        "id": "8XeD8yOLFgaF",
        "colab_type": "text"
      },
      "cell_type": "markdown",
      "source": [
        "### Image Augmentation"
      ]
    },
    {
      "metadata": {
        "id": "wnT9iCqhFgaG",
        "colab_type": "code",
        "colab": {
          "base_uri": "https://localhost:8080/",
          "height": 51
        },
        "outputId": "41c4ed7e-d63d-43d1-c30c-7a30729f4c8b"
      },
      "cell_type": "code",
      "source": [
        "from keras.preprocessing.image import ImageDataGenerator\n",
        "\n",
        "train_generator = ImageDataGenerator(\n",
        "                 rescale = 1./255, shear_range = 0.2, zoom_range = 0.2, horizontal_flip = True)\n",
        "train_generator = ImageDataGenerator(rescale = 1./255)\n",
        "\n",
        "training_set = train_generator.flow_from_directory('Convolutional_Neural_Networks/dataset/training_set', \n",
        "                                                    target_size = (64, 64), \n",
        "                                                    batch_size = 32, \n",
        "                                                    class_mode = 'binary')\n",
        "\n",
        "test_set = train_generator.flow_from_directory('Convolutional_Neural_Networks/dataset/test_set', \n",
        "                                                target_size = (64, 64), \n",
        "                                                batch_size = 32, \n",
        "                                                class_mode = 'binary')"
      ],
      "execution_count": 17,
      "outputs": [
        {
          "output_type": "stream",
          "text": [
            "Found 8000 images belonging to 2 classes.\n",
            "Found 2000 images belonging to 2 classes.\n"
          ],
          "name": "stdout"
        }
      ]
    },
    {
      "metadata": {
        "id": "NyHOiVlAFgaJ",
        "colab_type": "text"
      },
      "cell_type": "markdown",
      "source": [
        "### Training the model"
      ]
    },
    {
      "metadata": {
        "id": "mFIak0zbFgaK",
        "colab_type": "code",
        "colab": {
          "base_uri": "https://localhost:8080/",
          "height": 884
        },
        "outputId": "5a6fc98a-f44c-49ff-fda8-e3570260df97"
      },
      "cell_type": "code",
      "source": [
        "classifier.fit_generator(training_set, \n",
        "                         steps_per_epoch=250, \n",
        "                         validation_data=test_set, \n",
        "                         use_multiprocessing=True, \n",
        "                         verbose=1,\n",
        "                         epochs=25, \n",
        "                         validation_steps=2000)"
      ],
      "execution_count": 19,
      "outputs": [
        {
          "output_type": "stream",
          "text": [
            "Epoch 1/25\n",
            "250/250 [==============================] - 216s 866ms/step - loss: 0.6319 - acc: 0.6454 - val_loss: 0.5811 - val_acc: 0.6955\n",
            "Epoch 2/25\n",
            "250/250 [==============================] - 216s 865ms/step - loss: 0.5309 - acc: 0.7329 - val_loss: 0.5328 - val_acc: 0.7375\n",
            "Epoch 3/25\n",
            "250/250 [==============================] - 216s 862ms/step - loss: 0.4710 - acc: 0.7756 - val_loss: 0.5130 - val_acc: 0.7564\n",
            "Epoch 4/25\n",
            "250/250 [==============================] - 216s 862ms/step - loss: 0.4268 - acc: 0.8035 - val_loss: 0.5208 - val_acc: 0.7620\n",
            "Epoch 5/25\n",
            "250/250 [==============================] - 216s 864ms/step - loss: 0.3714 - acc: 0.8327 - val_loss: 0.5028 - val_acc: 0.7766\n",
            "Epoch 6/25\n",
            "250/250 [==============================] - 215s 862ms/step - loss: 0.3072 - acc: 0.8652 - val_loss: 0.5506 - val_acc: 0.7559\n",
            "Epoch 7/25\n",
            "250/250 [==============================] - 216s 863ms/step - loss: 0.2464 - acc: 0.8949 - val_loss: 0.6065 - val_acc: 0.7673\n",
            "Epoch 8/25\n",
            "250/250 [==============================] - 217s 867ms/step - loss: 0.1913 - acc: 0.9216 - val_loss: 0.7076 - val_acc: 0.7584\n",
            "Epoch 9/25\n",
            "250/250 [==============================] - 216s 863ms/step - loss: 0.1261 - acc: 0.9554 - val_loss: 0.7776 - val_acc: 0.7498\n",
            "Epoch 10/25\n",
            "250/250 [==============================] - 217s 868ms/step - loss: 0.0796 - acc: 0.9755 - val_loss: 0.8461 - val_acc: 0.7481\n",
            "Epoch 11/25\n",
            "250/250 [==============================] - 216s 865ms/step - loss: 0.0489 - acc: 0.9868 - val_loss: 0.9547 - val_acc: 0.7517\n",
            "Epoch 12/25\n",
            "250/250 [==============================] - 216s 864ms/step - loss: 0.0283 - acc: 0.9930 - val_loss: 0.9959 - val_acc: 0.7600\n",
            "Epoch 13/25\n",
            "250/250 [==============================] - 216s 865ms/step - loss: 0.0128 - acc: 0.9986 - val_loss: 1.1596 - val_acc: 0.7577\n",
            "Epoch 14/25\n",
            "250/250 [==============================] - 216s 865ms/step - loss: 0.0063 - acc: 0.9995 - val_loss: 1.1992 - val_acc: 0.7597\n",
            "Epoch 15/25\n",
            "250/250 [==============================] - 216s 864ms/step - loss: 0.0029 - acc: 1.0000 - val_loss: 1.2905 - val_acc: 0.7582\n",
            "Epoch 16/25\n",
            "250/250 [==============================] - 216s 864ms/step - loss: 0.0015 - acc: 0.9999 - val_loss: 1.3727 - val_acc: 0.7572\n",
            "Epoch 17/25\n",
            "250/250 [==============================] - 215s 861ms/step - loss: 8.5639e-04 - acc: 1.0000 - val_loss: 1.4281 - val_acc: 0.7605\n",
            "Epoch 18/25\n",
            "250/250 [==============================] - 216s 863ms/step - loss: 6.3589e-04 - acc: 1.0000 - val_loss: 1.4515 - val_acc: 0.7571\n",
            "Epoch 19/25\n",
            "250/250 [==============================] - 216s 865ms/step - loss: 4.9536e-04 - acc: 1.0000 - val_loss: 1.5036 - val_acc: 0.7576\n",
            "Epoch 20/25\n",
            "250/250 [==============================] - 216s 864ms/step - loss: 3.7951e-04 - acc: 1.0000 - val_loss: 1.5265 - val_acc: 0.7543\n",
            "Epoch 21/25\n",
            "250/250 [==============================] - 216s 863ms/step - loss: 3.0836e-04 - acc: 1.0000 - val_loss: 1.5448 - val_acc: 0.7579\n",
            "Epoch 22/25\n",
            "250/250 [==============================] - 216s 863ms/step - loss: 2.5931e-04 - acc: 1.0000 - val_loss: 1.5791 - val_acc: 0.7555\n",
            "Epoch 23/25\n",
            "250/250 [==============================] - 216s 863ms/step - loss: 2.0561e-04 - acc: 1.0000 - val_loss: 1.5936 - val_acc: 0.7562\n",
            "Epoch 24/25\n",
            "250/250 [==============================] - 216s 864ms/step - loss: 1.7360e-04 - acc: 1.0000 - val_loss: 1.6193 - val_acc: 0.7556\n",
            "Epoch 25/25\n",
            "250/250 [==============================] - 217s 866ms/step - loss: 1.4524e-04 - acc: 1.0000 - val_loss: 1.6472 - val_acc: 0.7564\n"
          ],
          "name": "stdout"
        },
        {
          "output_type": "execute_result",
          "data": {
            "text/plain": [
              "<keras.callbacks.History at 0x7f658e4619e8>"
            ]
          },
          "metadata": {
            "tags": []
          },
          "execution_count": 19
        }
      ]
    },
    {
      "metadata": {
        "id": "lA1Z8MZDK-JY",
        "colab_type": "text"
      },
      "cell_type": "markdown",
      "source": [
        "Using **Convolutional Neural Networks**, I was able to train a model to detect between cats and dogs."
      ]
    }
  ]
}