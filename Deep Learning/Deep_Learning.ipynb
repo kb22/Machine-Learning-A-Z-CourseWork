{
 "cells": [
  {
   "cell_type": "markdown",
   "metadata": {
    "colab_type": "text",
    "id": "XnNuKrDfFgZa"
   },
   "source": [
    "# Deep Learning\n",
    "\n",
    "In this notebook, I'll work with the churn dataset and use ANN and CNN to detect patterns."
   ]
  },
  {
   "cell_type": "markdown",
   "metadata": {
    "colab_type": "text",
    "id": "SoIW8Cg9LOa1"
   },
   "source": [
    "I'll first get the dataset for CNN, extract it and then setup the GPU usage."
   ]
  },
  {
   "cell_type": "code",
   "execution_count": 18,
   "metadata": {
    "colab": {},
    "colab_type": "code",
    "id": "tvK3T2rcHw6j"
   },
   "outputs": [
    {
     "name": "stdout",
     "output_type": "stream",
     "text": [
      "--2019-03-30 04:26:12--  https://sds-platform-private.s3-us-east-2.amazonaws.com/uploads/P14-Convolutional-Neural-Networks.zip\n",
      "Resolving sds-platform-private.s3-us-east-2.amazonaws.com (sds-platform-private.s3-us-east-2.amazonaws.com)... 52.219.100.56\n",
      "Connecting to sds-platform-private.s3-us-east-2.amazonaws.com (sds-platform-private.s3-us-east-2.amazonaws.com)|52.219.100.56|:443... connected.\n",
      "HTTP request sent, awaiting response... 200 OK\n",
      "Length: 232607759 (222M) [application/zip]\n",
      "Saving to: ‘P14-Convolutional-Neural-Networks.zip.1’\n",
      "\n",
      "P14-Convolutional-N   0%[                    ] 186.43K  54.3KB/s    eta 69m 44s^C\n"
     ]
    }
   ],
   "source": [
    "!wget https://sds-platform-private.s3-us-east-2.amazonaws.com/uploads/P14-Convolutional-Neural-Networks.zip"
   ]
  },
  {
   "cell_type": "code",
   "execution_count": 2,
   "metadata": {
    "colab": {},
    "colab_type": "code",
    "id": "W7CxGzwoGfPd"
   },
   "outputs": [
    {
     "name": "stdout",
     "output_type": "stream",
     "text": [
      "unzip:  cannot find or open P14-Convolutional-Neural-Networks.zip, P14-Convolutional-Neural-Networks.zip.zip or P14-Convolutional-Neural-Networks.zip.ZIP.\r\n"
     ]
    }
   ],
   "source": [
    "!unzip P14-Convolutional-Neural-Networks.zip"
   ]
  },
  {
   "cell_type": "code",
   "execution_count": 3,
   "metadata": {
    "colab": {},
    "colab_type": "code",
    "id": "FFmI2FrQJ_tO"
   },
   "outputs": [],
   "source": [
    "import tensorflow as tf\n",
    "config = tf.ConfigProto()\n",
    "config.gpu_options.allow_growth = True\n",
    "session = tf.Session(config=config)"
   ]
  },
  {
   "cell_type": "markdown",
   "metadata": {
    "colab_type": "text",
    "id": "AGqxfRzxFgZb"
   },
   "source": [
    "## Artificial Neural Networks"
   ]
  },
  {
   "cell_type": "markdown",
   "metadata": {
    "colab_type": "text",
    "id": "5t1gqWSQFgZc"
   },
   "source": [
    "### Data Processing"
   ]
  },
  {
   "cell_type": "code",
   "execution_count": 4,
   "metadata": {
    "colab": {},
    "colab_type": "code",
    "id": "OYXgStFHFgZd"
   },
   "outputs": [],
   "source": [
    "import numpy as np\n",
    "import pandas as pd\n",
    "import matplotlib.pyplot as plt\n",
    "%matplotlib inline"
   ]
  },
  {
   "cell_type": "code",
   "execution_count": 5,
   "metadata": {
    "colab": {},
    "colab_type": "code",
    "id": "jcTxDzmYFgZh"
   },
   "outputs": [],
   "source": [
    "dataset = pd.read_csv('Churn_Modelling.csv')\n",
    "X = dataset.iloc[:, 3:-1]\n",
    "y = dataset.iloc[:, -1]"
   ]
  },
  {
   "cell_type": "code",
   "execution_count": 6,
   "metadata": {
    "colab": {
     "base_uri": "https://localhost:8080/",
     "height": 139
    },
    "colab_type": "code",
    "id": "Zrl0WoZxFgZj",
    "outputId": "06545403-33d6-4d80-be5f-6e93502af9f9"
   },
   "outputs": [
    {
     "name": "stderr",
     "output_type": "stream",
     "text": [
      "/usr/local/lib/python3.7/site-packages/sklearn/preprocessing/_encoders.py:368: FutureWarning: The handling of integer data will change in version 0.22. Currently, the categories are determined based on the range [0, max(values)], while in the future they will be determined based on the unique values.\n",
      "If you want the future behaviour and silence this warning, you can specify \"categories='auto'\".\n",
      "In case you used a LabelEncoder before this OneHotEncoder to convert the categories to integers, then you can now use the OneHotEncoder directly.\n",
      "  warnings.warn(msg, FutureWarning)\n",
      "/usr/local/lib/python3.7/site-packages/sklearn/preprocessing/_encoders.py:390: DeprecationWarning: The 'categorical_features' keyword is deprecated in version 0.20 and will be removed in 0.22. You can use the ColumnTransformer instead.\n",
      "  \"use the ColumnTransformer instead.\", DeprecationWarning)\n"
     ]
    }
   ],
   "source": [
    "from sklearn.preprocessing import LabelEncoder, OneHotEncoder\n",
    "\n",
    "labelEncoder_1 = LabelEncoder()\n",
    "X.iloc[:, 1] = labelEncoder_1.fit_transform(X.iloc[:, 1])\n",
    "labelEncoder_2 = LabelEncoder()\n",
    "X.iloc[:, 2] = labelEncoder_2.fit_transform(X.iloc[:, 2])\n",
    "oneHotEncoder = OneHotEncoder(categorical_features = [1])\n",
    "X = oneHotEncoder.fit_transform(X).toarray()\n",
    "\n",
    "# Avoid dummy variable trap\n",
    "X = X[:, 1:]"
   ]
  },
  {
   "cell_type": "code",
   "execution_count": 7,
   "metadata": {
    "colab": {},
    "colab_type": "code",
    "id": "90HoBmK6FgZo"
   },
   "outputs": [],
   "source": [
    "from sklearn.model_selection import train_test_split\n",
    "\n",
    "X_train, X_test, y_train, y_test = train_test_split(X, y, test_size = 0.2, random_state = 0)"
   ]
  },
  {
   "cell_type": "code",
   "execution_count": 8,
   "metadata": {
    "colab": {},
    "colab_type": "code",
    "id": "EVakfC6AFgZq"
   },
   "outputs": [],
   "source": [
    "from sklearn.preprocessing import StandardScaler\n",
    "\n",
    "standardScaler = StandardScaler()\n",
    "X_train = standardScaler.fit_transform(X_train)\n",
    "X_test = standardScaler.transform(X_test)"
   ]
  },
  {
   "cell_type": "markdown",
   "metadata": {
    "colab_type": "text",
    "id": "vuZWx3ZCFgZt"
   },
   "source": [
    "### Build the ANN"
   ]
  },
  {
   "cell_type": "code",
   "execution_count": 9,
   "metadata": {
    "colab": {
     "base_uri": "https://localhost:8080/",
     "height": 34
    },
    "colab_type": "code",
    "id": "ZGYp1nCZFgZt",
    "outputId": "b3c78889-9203-43d5-d8b7-426a78df116f"
   },
   "outputs": [
    {
     "name": "stderr",
     "output_type": "stream",
     "text": [
      "Using TensorFlow backend.\n"
     ]
    }
   ],
   "source": [
    "import os\n",
    "os.environ['KERAS_BACKEND'] = 'tensorflow'\n",
    "import keras.backend as K\n",
    "K.set_image_dim_ordering('tf')\n",
    "import keras\n",
    "from keras.models import Sequential\n",
    "from keras.layers import Dense"
   ]
  },
  {
   "cell_type": "code",
   "execution_count": 10,
   "metadata": {
    "colab": {
     "base_uri": "https://localhost:8080/",
     "height": 190
    },
    "colab_type": "code",
    "id": "FgsxAjX6FgZw",
    "outputId": "4590cfdf-297e-4373-9a0f-af571b3bef67"
   },
   "outputs": [
    {
     "name": "stdout",
     "output_type": "stream",
     "text": [
      "WARNING:tensorflow:From /usr/local/lib/python3.7/site-packages/tensorflow/python/framework/op_def_library.py:263: colocate_with (from tensorflow.python.framework.ops) is deprecated and will be removed in a future version.\n",
      "Instructions for updating:\n",
      "Colocations handled automatically by placer.\n"
     ]
    },
    {
     "name": "stderr",
     "output_type": "stream",
     "text": [
      "/usr/local/lib/python3.7/site-packages/ipykernel_launcher.py:6: UserWarning: Update your `Dense` call to the Keras 2 API: `Dense(activation=\"relu\", input_dim=11, units=6, kernel_initializer=\"uniform\")`\n",
      "  \n",
      "/usr/local/lib/python3.7/site-packages/ipykernel_launcher.py:8: UserWarning: Update your `Dense` call to the Keras 2 API: `Dense(activation=\"relu\", units=6, kernel_initializer=\"uniform\")`\n",
      "  \n",
      "/usr/local/lib/python3.7/site-packages/ipykernel_launcher.py:10: UserWarning: Update your `Dense` call to the Keras 2 API: `Dense(activation=\"sigmoid\", units=1, kernel_initializer=\"uniform\")`\n",
      "  # Remove the CWD from sys.path while we load stuff.\n"
     ]
    }
   ],
   "source": [
    "ann_classifier = Sequential()\n",
    "\n",
    "# Nodes count = average of input and output values\n",
    "\n",
    "# First hidden layer\n",
    "ann_classifier.add(Dense(output_dim = 6, init = 'uniform', activation = 'relu', input_dim = X_train.shape[1])) # relu is for rectifier\n",
    "# Second hidden layer\n",
    "ann_classifier.add(Dense(output_dim = 6, init = 'uniform', activation = 'relu')) # relu is for rectifier\n",
    "# Output layer\n",
    "ann_classifier.add(Dense(output_dim = 1, init = 'uniform', activation = 'sigmoid'))\n",
    "\n",
    "ann_classifier.compile(optimizer = 'adam', loss = 'binary_crossentropy', metrics = ['accuracy']) # adam is an optimized scholastic gradient descent"
   ]
  },
  {
   "cell_type": "code",
   "execution_count": 11,
   "metadata": {
    "colab": {
     "base_uri": "https://localhost:8080/",
     "height": 3505
    },
    "colab_type": "code",
    "id": "HZ_67-RjFgZz",
    "outputId": "4c69e940-f9a0-42c5-be44-6861c86ba6a1",
    "scrolled": true
   },
   "outputs": [
    {
     "name": "stdout",
     "output_type": "stream",
     "text": [
      "WARNING:tensorflow:From /usr/local/lib/python3.7/site-packages/tensorflow/python/ops/math_ops.py:3066: to_int32 (from tensorflow.python.ops.math_ops) is deprecated and will be removed in a future version.\n",
      "Instructions for updating:\n",
      "Use tf.cast instead.\n",
      "Epoch 1/100\n",
      "8000/8000 [==============================] - 1s 135us/step - loss: 0.4835 - acc: 0.7960\n",
      "Epoch 2/100\n",
      "8000/8000 [==============================] - 1s 99us/step - loss: 0.4254 - acc: 0.7960\n",
      "Epoch 3/100\n",
      "8000/8000 [==============================] - 1s 98us/step - loss: 0.4180 - acc: 0.8226\n",
      "Epoch 4/100\n",
      "8000/8000 [==============================] - 1s 123us/step - loss: 0.4127 - acc: 0.8292\n",
      "Epoch 5/100\n",
      "8000/8000 [==============================] - 1s 127us/step - loss: 0.4092 - acc: 0.8335\n",
      "Epoch 6/100\n",
      "8000/8000 [==============================] - 1s 110us/step - loss: 0.4065 - acc: 0.8349\n",
      "Epoch 7/100\n",
      "8000/8000 [==============================] - 1s 86us/step - loss: 0.4042 - acc: 0.8339\n",
      "Epoch 8/100\n",
      "8000/8000 [==============================] - 1s 88us/step - loss: 0.4026 - acc: 0.8345\n",
      "Epoch 9/100\n",
      "8000/8000 [==============================] - 1s 86us/step - loss: 0.4012 - acc: 0.8339\n",
      "Epoch 10/100\n",
      "8000/8000 [==============================] - 1s 99us/step - loss: 0.4004 - acc: 0.8357\n",
      "Epoch 11/100\n",
      "8000/8000 [==============================] - 1s 103us/step - loss: 0.3998 - acc: 0.8349\n",
      "Epoch 12/100\n",
      "8000/8000 [==============================] - 1s 118us/step - loss: 0.3994 - acc: 0.8342\n",
      "Epoch 13/100\n",
      "8000/8000 [==============================] - 1s 93us/step - loss: 0.3984 - acc: 0.8359\n",
      "Epoch 14/100\n",
      "8000/8000 [==============================] - 1s 107us/step - loss: 0.3980 - acc: 0.8361\n",
      "Epoch 15/100\n",
      "8000/8000 [==============================] - 1s 93us/step - loss: 0.3973 - acc: 0.8351\n",
      "Epoch 16/100\n",
      "8000/8000 [==============================] - 1s 97us/step - loss: 0.3969 - acc: 0.8355\n",
      "Epoch 17/100\n",
      "8000/8000 [==============================] - 1s 96us/step - loss: 0.3964 - acc: 0.8359\n",
      "Epoch 18/100\n",
      "8000/8000 [==============================] - 1s 110us/step - loss: 0.3962 - acc: 0.8355\n",
      "Epoch 19/100\n",
      "8000/8000 [==============================] - 1s 93us/step - loss: 0.3963 - acc: 0.8355\n",
      "Epoch 20/100\n",
      "8000/8000 [==============================] - 1s 93us/step - loss: 0.3957 - acc: 0.8360\n",
      "Epoch 21/100\n",
      "8000/8000 [==============================] - 1s 90us/step - loss: 0.3955 - acc: 0.8370\n",
      "Epoch 22/100\n",
      "8000/8000 [==============================] - 1s 87us/step - loss: 0.3945 - acc: 0.8366\n",
      "Epoch 23/100\n",
      "8000/8000 [==============================] - 1s 91us/step - loss: 0.3957 - acc: 0.8367: 0s - loss: 0.3825 - acc\n",
      "Epoch 24/100\n",
      "8000/8000 [==============================] - 1s 87us/step - loss: 0.3946 - acc: 0.8370\n",
      "Epoch 25/100\n",
      "8000/8000 [==============================] - 1s 85us/step - loss: 0.3943 - acc: 0.8355\n",
      "Epoch 26/100\n",
      "8000/8000 [==============================] - 1s 86us/step - loss: 0.3942 - acc: 0.8366\n",
      "Epoch 27/100\n",
      "8000/8000 [==============================] - 1s 85us/step - loss: 0.3930 - acc: 0.8386\n",
      "Epoch 28/100\n",
      "8000/8000 [==============================] - 1s 86us/step - loss: 0.3924 - acc: 0.8390\n",
      "Epoch 29/100\n",
      "8000/8000 [==============================] - 1s 86us/step - loss: 0.3912 - acc: 0.8389\n",
      "Epoch 30/100\n",
      "8000/8000 [==============================] - 1s 87us/step - loss: 0.3895 - acc: 0.8376\n",
      "Epoch 31/100\n",
      "8000/8000 [==============================] - 1s 87us/step - loss: 0.3864 - acc: 0.8395\n",
      "Epoch 32/100\n",
      "8000/8000 [==============================] - 1s 85us/step - loss: 0.3838 - acc: 0.8389\n",
      "Epoch 33/100\n",
      "8000/8000 [==============================] - 1s 86us/step - loss: 0.3811 - acc: 0.8431\n",
      "Epoch 34/100\n",
      "8000/8000 [==============================] - 1s 86us/step - loss: 0.3783 - acc: 0.8405\n",
      "Epoch 35/100\n",
      "8000/8000 [==============================] - 1s 88us/step - loss: 0.3762 - acc: 0.8426\n",
      "Epoch 36/100\n",
      "8000/8000 [==============================] - 1s 86us/step - loss: 0.3738 - acc: 0.8410\n",
      "Epoch 37/100\n",
      "8000/8000 [==============================] - 1s 86us/step - loss: 0.3712 - acc: 0.8449\n",
      "Epoch 38/100\n",
      "8000/8000 [==============================] - 1s 86us/step - loss: 0.3686 - acc: 0.8441\n",
      "Epoch 39/100\n",
      "8000/8000 [==============================] - 1s 87us/step - loss: 0.3667 - acc: 0.8455\n",
      "Epoch 40/100\n",
      "8000/8000 [==============================] - 1s 89us/step - loss: 0.3645 - acc: 0.8501\n",
      "Epoch 41/100\n",
      "8000/8000 [==============================] - 1s 85us/step - loss: 0.3605 - acc: 0.8497\n",
      "Epoch 42/100\n",
      "8000/8000 [==============================] - 1s 86us/step - loss: 0.3581 - acc: 0.8537\n",
      "Epoch 43/100\n",
      "8000/8000 [==============================] - 1s 90us/step - loss: 0.3569 - acc: 0.8517\n",
      "Epoch 44/100\n",
      "8000/8000 [==============================] - 1s 87us/step - loss: 0.3538 - acc: 0.8539\n",
      "Epoch 45/100\n",
      "8000/8000 [==============================] - 1s 88us/step - loss: 0.3534 - acc: 0.8532\n",
      "Epoch 46/100\n",
      "8000/8000 [==============================] - 1s 90us/step - loss: 0.3515 - acc: 0.8540\n",
      "Epoch 47/100\n",
      "8000/8000 [==============================] - 1s 88us/step - loss: 0.3506 - acc: 0.8525\n",
      "Epoch 48/100\n",
      "8000/8000 [==============================] - 1s 87us/step - loss: 0.3503 - acc: 0.8559\n",
      "Epoch 49/100\n",
      "8000/8000 [==============================] - 1s 88us/step - loss: 0.3492 - acc: 0.8555\n",
      "Epoch 50/100\n",
      "8000/8000 [==============================] - 1s 87us/step - loss: 0.3485 - acc: 0.8556\n",
      "Epoch 51/100\n",
      "8000/8000 [==============================] - 1s 90us/step - loss: 0.3471 - acc: 0.8581\n",
      "Epoch 52/100\n",
      "8000/8000 [==============================] - 1s 90us/step - loss: 0.3474 - acc: 0.8589\n",
      "Epoch 53/100\n",
      "8000/8000 [==============================] - 1s 85us/step - loss: 0.3465 - acc: 0.8585\n",
      "Epoch 54/100\n",
      "8000/8000 [==============================] - 1s 89us/step - loss: 0.3460 - acc: 0.8575\n",
      "Epoch 55/100\n",
      "8000/8000 [==============================] - 1s 87us/step - loss: 0.3456 - acc: 0.8575\n",
      "Epoch 56/100\n",
      "8000/8000 [==============================] - 1s 85us/step - loss: 0.3456 - acc: 0.8567\n",
      "Epoch 57/100\n",
      "8000/8000 [==============================] - 1s 86us/step - loss: 0.3446 - acc: 0.8604\n",
      "Epoch 58/100\n",
      "8000/8000 [==============================] - 1s 85us/step - loss: 0.3453 - acc: 0.8561\n",
      "Epoch 59/100\n",
      "8000/8000 [==============================] - 1s 86us/step - loss: 0.3450 - acc: 0.8582\n",
      "Epoch 60/100\n",
      "8000/8000 [==============================] - 1s 89us/step - loss: 0.3451 - acc: 0.8580\n",
      "Epoch 61/100\n",
      "8000/8000 [==============================] - 1s 85us/step - loss: 0.3440 - acc: 0.8600\n",
      "Epoch 62/100\n",
      "8000/8000 [==============================] - 1s 86us/step - loss: 0.3445 - acc: 0.8589\n",
      "Epoch 63/100\n",
      "8000/8000 [==============================] - 1s 87us/step - loss: 0.3440 - acc: 0.8591\n",
      "Epoch 64/100\n",
      "8000/8000 [==============================] - 1s 85us/step - loss: 0.3445 - acc: 0.8587\n",
      "Epoch 65/100\n",
      "8000/8000 [==============================] - 1s 84us/step - loss: 0.3433 - acc: 0.8591\n",
      "Epoch 66/100\n",
      "8000/8000 [==============================] - 1s 84us/step - loss: 0.3439 - acc: 0.8577\n",
      "Epoch 67/100\n",
      "8000/8000 [==============================] - 1s 84us/step - loss: 0.3441 - acc: 0.8569\n",
      "Epoch 68/100\n",
      "8000/8000 [==============================] - 1s 84us/step - loss: 0.3437 - acc: 0.8600\n",
      "Epoch 69/100\n",
      "8000/8000 [==============================] - 1s 97us/step - loss: 0.3433 - acc: 0.8586\n",
      "Epoch 70/100\n",
      "8000/8000 [==============================] - 1s 87us/step - loss: 0.3437 - acc: 0.8594\n",
      "Epoch 71/100\n",
      "8000/8000 [==============================] - 1s 92us/step - loss: 0.3427 - acc: 0.8595\n",
      "Epoch 72/100\n",
      "8000/8000 [==============================] - 1s 89us/step - loss: 0.3430 - acc: 0.8595\n",
      "Epoch 73/100\n",
      "8000/8000 [==============================] - 1s 110us/step - loss: 0.3422 - acc: 0.8571\n",
      "Epoch 74/100\n",
      "8000/8000 [==============================] - 1s 105us/step - loss: 0.3430 - acc: 0.8609\n",
      "Epoch 75/100\n",
      "8000/8000 [==============================] - 1s 94us/step - loss: 0.3427 - acc: 0.8612\n",
      "Epoch 76/100\n",
      "8000/8000 [==============================] - 1s 96us/step - loss: 0.3433 - acc: 0.8617\n",
      "Epoch 77/100\n",
      "8000/8000 [==============================] - 1s 99us/step - loss: 0.3423 - acc: 0.8579\n",
      "Epoch 78/100\n",
      "8000/8000 [==============================] - 1s 125us/step - loss: 0.3433 - acc: 0.8585\n",
      "Epoch 79/100\n",
      "8000/8000 [==============================] - 1s 103us/step - loss: 0.3419 - acc: 0.8602\n",
      "Epoch 80/100\n"
     ]
    },
    {
     "name": "stdout",
     "output_type": "stream",
     "text": [
      "8000/8000 [==============================] - 1s 112us/step - loss: 0.3423 - acc: 0.8606\n",
      "Epoch 81/100\n",
      "8000/8000 [==============================] - 1s 87us/step - loss: 0.3420 - acc: 0.8620\n",
      "Epoch 82/100\n",
      "8000/8000 [==============================] - 1s 90us/step - loss: 0.3431 - acc: 0.8595\n",
      "Epoch 83/100\n",
      "8000/8000 [==============================] - 1s 86us/step - loss: 0.3412 - acc: 0.8602\n",
      "Epoch 84/100\n",
      "8000/8000 [==============================] - 1s 86us/step - loss: 0.3412 - acc: 0.8609\n",
      "Epoch 85/100\n",
      "8000/8000 [==============================] - 1s 90us/step - loss: 0.3428 - acc: 0.8609\n",
      "Epoch 86/100\n",
      "8000/8000 [==============================] - 1s 88us/step - loss: 0.3421 - acc: 0.8584\n",
      "Epoch 87/100\n",
      "8000/8000 [==============================] - 1s 94us/step - loss: 0.3417 - acc: 0.8604\n",
      "Epoch 88/100\n",
      "8000/8000 [==============================] - 1s 88us/step - loss: 0.3413 - acc: 0.8595\n",
      "Epoch 89/100\n",
      "8000/8000 [==============================] - 1s 84us/step - loss: 0.3413 - acc: 0.8595\n",
      "Epoch 90/100\n",
      "8000/8000 [==============================] - 1s 85us/step - loss: 0.3425 - acc: 0.8586\n",
      "Epoch 91/100\n",
      "8000/8000 [==============================] - 1s 85us/step - loss: 0.3405 - acc: 0.8607\n",
      "Epoch 92/100\n",
      "8000/8000 [==============================] - 1s 87us/step - loss: 0.3422 - acc: 0.8605\n",
      "Epoch 93/100\n",
      "8000/8000 [==============================] - 1s 91us/step - loss: 0.3414 - acc: 0.8606\n",
      "Epoch 94/100\n",
      "8000/8000 [==============================] - 1s 90us/step - loss: 0.3416 - acc: 0.8596\n",
      "Epoch 95/100\n",
      "8000/8000 [==============================] - 1s 87us/step - loss: 0.3416 - acc: 0.8590\n",
      "Epoch 96/100\n",
      "8000/8000 [==============================] - 1s 88us/step - loss: 0.3417 - acc: 0.8587\n",
      "Epoch 97/100\n",
      "8000/8000 [==============================] - 1s 86us/step - loss: 0.3412 - acc: 0.8596\n",
      "Epoch 98/100\n",
      "8000/8000 [==============================] - 1s 86us/step - loss: 0.3416 - acc: 0.8576\n",
      "Epoch 99/100\n",
      "8000/8000 [==============================] - 1s 101us/step - loss: 0.3416 - acc: 0.8582\n",
      "Epoch 100/100\n",
      "8000/8000 [==============================] - 1s 100us/step - loss: 0.3412 - acc: 0.8584\n"
     ]
    },
    {
     "data": {
      "text/plain": [
       "<keras.callbacks.History at 0x13104cb38>"
      ]
     },
     "execution_count": 11,
     "metadata": {},
     "output_type": "execute_result"
    }
   ],
   "source": [
    "ann_classifier.fit(X_train, y_train, batch_size = 10, epochs = 100)"
   ]
  },
  {
   "cell_type": "markdown",
   "metadata": {
    "colab_type": "text",
    "id": "9CxTn_GkFgZ1"
   },
   "source": [
    "### Making predictions"
   ]
  },
  {
   "cell_type": "code",
   "execution_count": 12,
   "metadata": {
    "colab": {},
    "colab_type": "code",
    "id": "4f2MPwyhFgZ2"
   },
   "outputs": [],
   "source": [
    "y_pred = ann_classifier.predict(X_test)\n",
    "y_pred = y_pred > 0.5"
   ]
  },
  {
   "cell_type": "code",
   "execution_count": 13,
   "metadata": {
    "colab": {
     "base_uri": "https://localhost:8080/",
     "height": 85
    },
    "colab_type": "code",
    "id": "tkoHOMG4FgZ5",
    "outputId": "a691402c-ea33-4897-89b2-46782485a9dc"
   },
   "outputs": [
    {
     "name": "stdout",
     "output_type": "stream",
     "text": [
      "Accuracy: 86.35000000000001%\n",
      "Confusion matrix: \n",
      "[[1538   57]\n",
      " [ 216  189]]\n"
     ]
    }
   ],
   "source": [
    "from sklearn.metrics import confusion_matrix, accuracy_score\n",
    "\n",
    "print(\"Accuracy: {}%\".format(accuracy_score(y_test, y_pred)*100))\n",
    "cm = confusion_matrix(y_test, y_pred)\n",
    "print(\"Confusion matrix: \")\n",
    "print(\"{}\".format(cm))"
   ]
  },
  {
   "cell_type": "markdown",
   "metadata": {
    "colab_type": "text",
    "id": "EGCY4OIjFgZ7"
   },
   "source": [
    "## Convolutional Neural Network"
   ]
  },
  {
   "cell_type": "code",
   "execution_count": 14,
   "metadata": {
    "colab": {},
    "colab_type": "code",
    "id": "Z2S58PA8FgZ8"
   },
   "outputs": [],
   "source": [
    "from keras.layers import Convolution2D, MaxPooling2D, Flatten"
   ]
  },
  {
   "cell_type": "markdown",
   "metadata": {
    "colab_type": "text",
    "id": "zEuaI3NPFgZ_"
   },
   "source": [
    "### Build CNN\n",
    "\n",
    "1. Convolution\n",
    "2. Max Pooling\n",
    "3. Flatten\n",
    "4. Full Connection"
   ]
  },
  {
   "cell_type": "code",
   "execution_count": 15,
   "metadata": {
    "colab": {},
    "colab_type": "code",
    "id": "ULePgLDAFgaB"
   },
   "outputs": [],
   "source": [
    "classifier = Sequential()\n",
    "classifier.add(Convolution2D(32, (3, 3), input_shape = (64, 64, 3), activation = 'relu'))\n",
    "classifier.add(MaxPooling2D(pool_size = (2, 2), data_format=\"channels_last\"))\n",
    "classifier.add(Convolution2D(32, (3, 3), activation = 'relu'))\n",
    "classifier.add(MaxPooling2D(pool_size = (2, 2), data_format=\"channels_last\"))\n",
    "classifier.add(Flatten())\n",
    "classifier.add(Dense(activation = 'relu', units=128))\n",
    "classifier.add(Dense(activation = 'sigmoid', units=1))\n",
    "classifier.compile(optimizer = 'adam', loss = 'binary_crossentropy', metrics = ['accuracy'])"
   ]
  },
  {
   "cell_type": "markdown",
   "metadata": {
    "colab_type": "text",
    "id": "8XeD8yOLFgaF"
   },
   "source": [
    "### Image Augmentation"
   ]
  },
  {
   "cell_type": "code",
   "execution_count": 16,
   "metadata": {
    "colab": {
     "base_uri": "https://localhost:8080/",
     "height": 51
    },
    "colab_type": "code",
    "id": "wnT9iCqhFgaG",
    "outputId": "41c4ed7e-d63d-43d1-c30c-7a30729f4c8b"
   },
   "outputs": [
    {
     "ename": "FileNotFoundError",
     "evalue": "[Errno 2] No such file or directory: 'Convolutional_Neural_Networks/dataset/training_set'",
     "output_type": "error",
     "traceback": [
      "\u001b[0;31m---------------------------------------------------------------------------\u001b[0m",
      "\u001b[0;31mFileNotFoundError\u001b[0m                         Traceback (most recent call last)",
      "\u001b[0;32m<ipython-input-16-4db2084fd79d>\u001b[0m in \u001b[0;36m<module>\u001b[0;34m\u001b[0m\n\u001b[1;32m      8\u001b[0m                                                     \u001b[0mtarget_size\u001b[0m \u001b[0;34m=\u001b[0m \u001b[0;34m(\u001b[0m\u001b[0;36m64\u001b[0m\u001b[0;34m,\u001b[0m \u001b[0;36m64\u001b[0m\u001b[0;34m)\u001b[0m\u001b[0;34m,\u001b[0m\u001b[0;34m\u001b[0m\u001b[0;34m\u001b[0m\u001b[0m\n\u001b[1;32m      9\u001b[0m                                                     \u001b[0mbatch_size\u001b[0m \u001b[0;34m=\u001b[0m \u001b[0;36m32\u001b[0m\u001b[0;34m,\u001b[0m\u001b[0;34m\u001b[0m\u001b[0;34m\u001b[0m\u001b[0m\n\u001b[0;32m---> 10\u001b[0;31m                                                     class_mode = 'binary')\n\u001b[0m\u001b[1;32m     11\u001b[0m \u001b[0;34m\u001b[0m\u001b[0m\n\u001b[1;32m     12\u001b[0m test_set = train_generator.flow_from_directory('Convolutional_Neural_Networks/dataset/test_set', \n",
      "\u001b[0;32m/usr/local/lib/python3.7/site-packages/keras_preprocessing/image/image_data_generator.py\u001b[0m in \u001b[0;36mflow_from_directory\u001b[0;34m(self, directory, target_size, color_mode, classes, class_mode, batch_size, shuffle, seed, save_to_dir, save_prefix, save_format, follow_links, subset, interpolation)\u001b[0m\n\u001b[1;32m    536\u001b[0m             \u001b[0mfollow_links\u001b[0m\u001b[0;34m=\u001b[0m\u001b[0mfollow_links\u001b[0m\u001b[0;34m,\u001b[0m\u001b[0;34m\u001b[0m\u001b[0;34m\u001b[0m\u001b[0m\n\u001b[1;32m    537\u001b[0m             \u001b[0msubset\u001b[0m\u001b[0;34m=\u001b[0m\u001b[0msubset\u001b[0m\u001b[0;34m,\u001b[0m\u001b[0;34m\u001b[0m\u001b[0;34m\u001b[0m\u001b[0m\n\u001b[0;32m--> 538\u001b[0;31m             \u001b[0minterpolation\u001b[0m\u001b[0;34m=\u001b[0m\u001b[0minterpolation\u001b[0m\u001b[0;34m\u001b[0m\u001b[0;34m\u001b[0m\u001b[0m\n\u001b[0m\u001b[1;32m    539\u001b[0m         )\n\u001b[1;32m    540\u001b[0m \u001b[0;34m\u001b[0m\u001b[0m\n",
      "\u001b[0;32m/usr/local/lib/python3.7/site-packages/keras_preprocessing/image/directory_iterator.py\u001b[0m in \u001b[0;36m__init__\u001b[0;34m(self, directory, image_data_generator, target_size, color_mode, classes, class_mode, batch_size, shuffle, seed, data_format, save_to_dir, save_prefix, save_format, follow_links, subset, interpolation, dtype)\u001b[0m\n\u001b[1;32m    103\u001b[0m         \u001b[0;32mif\u001b[0m \u001b[0;32mnot\u001b[0m \u001b[0mclasses\u001b[0m\u001b[0;34m:\u001b[0m\u001b[0;34m\u001b[0m\u001b[0;34m\u001b[0m\u001b[0m\n\u001b[1;32m    104\u001b[0m             \u001b[0mclasses\u001b[0m \u001b[0;34m=\u001b[0m \u001b[0;34m[\u001b[0m\u001b[0;34m]\u001b[0m\u001b[0;34m\u001b[0m\u001b[0;34m\u001b[0m\u001b[0m\n\u001b[0;32m--> 105\u001b[0;31m             \u001b[0;32mfor\u001b[0m \u001b[0msubdir\u001b[0m \u001b[0;32min\u001b[0m \u001b[0msorted\u001b[0m\u001b[0;34m(\u001b[0m\u001b[0mos\u001b[0m\u001b[0;34m.\u001b[0m\u001b[0mlistdir\u001b[0m\u001b[0;34m(\u001b[0m\u001b[0mdirectory\u001b[0m\u001b[0;34m)\u001b[0m\u001b[0;34m)\u001b[0m\u001b[0;34m:\u001b[0m\u001b[0;34m\u001b[0m\u001b[0;34m\u001b[0m\u001b[0m\n\u001b[0m\u001b[1;32m    106\u001b[0m                 \u001b[0;32mif\u001b[0m \u001b[0mos\u001b[0m\u001b[0;34m.\u001b[0m\u001b[0mpath\u001b[0m\u001b[0;34m.\u001b[0m\u001b[0misdir\u001b[0m\u001b[0;34m(\u001b[0m\u001b[0mos\u001b[0m\u001b[0;34m.\u001b[0m\u001b[0mpath\u001b[0m\u001b[0;34m.\u001b[0m\u001b[0mjoin\u001b[0m\u001b[0;34m(\u001b[0m\u001b[0mdirectory\u001b[0m\u001b[0;34m,\u001b[0m \u001b[0msubdir\u001b[0m\u001b[0;34m)\u001b[0m\u001b[0;34m)\u001b[0m\u001b[0;34m:\u001b[0m\u001b[0;34m\u001b[0m\u001b[0;34m\u001b[0m\u001b[0m\n\u001b[1;32m    107\u001b[0m                     \u001b[0mclasses\u001b[0m\u001b[0;34m.\u001b[0m\u001b[0mappend\u001b[0m\u001b[0;34m(\u001b[0m\u001b[0msubdir\u001b[0m\u001b[0;34m)\u001b[0m\u001b[0;34m\u001b[0m\u001b[0;34m\u001b[0m\u001b[0m\n",
      "\u001b[0;31mFileNotFoundError\u001b[0m: [Errno 2] No such file or directory: 'Convolutional_Neural_Networks/dataset/training_set'"
     ]
    }
   ],
   "source": [
    "from keras.preprocessing.image import ImageDataGenerator\n",
    "\n",
    "train_generator = ImageDataGenerator(\n",
    "                 rescale = 1./255, shear_range = 0.2, zoom_range = 0.2, horizontal_flip = True)\n",
    "train_generator = ImageDataGenerator(rescale = 1./255)\n",
    "\n",
    "training_set = train_generator.flow_from_directory('Convolutional_Neural_Networks/dataset/training_set', \n",
    "                                                    target_size = (64, 64), \n",
    "                                                    batch_size = 32, \n",
    "                                                    class_mode = 'binary')\n",
    "\n",
    "test_set = train_generator.flow_from_directory('Convolutional_Neural_Networks/dataset/test_set', \n",
    "                                                target_size = (64, 64), \n",
    "                                                batch_size = 32, \n",
    "                                                class_mode = 'binary')"
   ]
  },
  {
   "cell_type": "markdown",
   "metadata": {
    "colab_type": "text",
    "id": "NyHOiVlAFgaJ"
   },
   "source": [
    "### Training the model"
   ]
  },
  {
   "cell_type": "code",
   "execution_count": null,
   "metadata": {
    "colab": {
     "base_uri": "https://localhost:8080/",
     "height": 884
    },
    "colab_type": "code",
    "id": "mFIak0zbFgaK",
    "outputId": "5a6fc98a-f44c-49ff-fda8-e3570260df97"
   },
   "outputs": [],
   "source": [
    "classifier.fit_generator(training_set, \n",
    "                         steps_per_epoch=250, \n",
    "                         validation_data=test_set, \n",
    "                         use_multiprocessing=True, \n",
    "                         verbose=1,\n",
    "                         epochs=25, \n",
    "                         validation_steps=2000)"
   ]
  },
  {
   "cell_type": "markdown",
   "metadata": {
    "colab_type": "text",
    "id": "lA1Z8MZDK-JY"
   },
   "source": [
    "Using **Convolutional Neural Networks**, I was able to train a model to detect between cats and dogs."
   ]
  }
 ],
 "metadata": {
  "accelerator": "GPU",
  "colab": {
   "collapsed_sections": [],
   "name": "Deep Learning.ipynb",
   "provenance": [],
   "toc_visible": true,
   "version": "0.3.2"
  },
  "kernelspec": {
   "display_name": "Python 3",
   "language": "python",
   "name": "python3"
  },
  "language_info": {
   "codemirror_mode": {
    "name": "ipython",
    "version": 3
   },
   "file_extension": ".py",
   "mimetype": "text/x-python",
   "name": "python",
   "nbconvert_exporter": "python",
   "pygments_lexer": "ipython3",
   "version": "3.7.2"
  }
 },
 "nbformat": 4,
 "nbformat_minor": 1
}
